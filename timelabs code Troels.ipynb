{
 "cells": [
  {
   "cell_type": "code",
   "execution_count": 1,
   "id": "77b701ab",
   "metadata": {},
   "outputs": [],
   "source": [
    "#!/usr/bin/env python\n",
    "\n",
    "# ----------------------------------------------------------------------------------- #\n",
    "#  Simple stopwatch macro, writing result into a file (to be read by analysis program)\n",
    "#\n",
    "#  Author: Troels C. Petersen (Niels Bohr Institute)\n",
    "#  Date:   07-10-2023\n",
    "#\n",
    "# ----------------------------------------------------------------------------------- #\n",
    "\n",
    "from time import time\n",
    "import os,sys"
   ]
  },
  {
   "cell_type": "code",
   "execution_count": 8,
   "id": "50e509f1",
   "metadata": {},
   "outputs": [],
   "source": [
    "name = \"timer_testpendulum.txt\" # remember to change name of file!"
   ]
  },
  {
   "cell_type": "code",
   "execution_count": 9,
   "id": "be55107d",
   "metadata": {},
   "outputs": [
    {
     "name": "stderr",
     "output_type": "stream",
     "text": [
      "<>:34: SyntaxWarning: \"is\" with a literal. Did you mean \"==\"?\n",
      "<>:34: SyntaxWarning: \"is\" with a literal. Did you mean \"==\"?\n",
      "<>:34: SyntaxWarning: \"is\" with a literal. Did you mean \"==\"?\n",
      "<>:34: SyntaxWarning: \"is\" with a literal. Did you mean \"==\"?\n",
      "/var/folders/3p/nrstgwdd14dcvk4rdybj6s7h0000gn/T/ipykernel_56157/2893869551.py:34: SyntaxWarning: \"is\" with a literal. Did you mean \"==\"?\n",
      "  while( input( \"%4d \\t %10.4f \\t Laptime by enter, Exit by key+enter \\t\"%(counter, laptime) ) is \"\" ) :\n",
      "/var/folders/3p/nrstgwdd14dcvk4rdybj6s7h0000gn/T/ipykernel_56157/2893869551.py:34: SyntaxWarning: \"is\" with a literal. Did you mean \"==\"?\n",
      "  while( input( \"%4d \\t %10.4f \\t Laptime by enter, Exit by key+enter \\t\"%(counter, laptime) ) is \"\" ) :\n"
     ]
    },
    {
     "name": "stdout",
     "output_type": "stream",
     "text": [
      "   0 \t     0.0000 \t Laptime by enter, Exit by key+enter \t\n",
      "   1 \t     1.9844 \t Laptime by enter, Exit by key+enter \t\n",
      "   2 \t     3.1702 \t Laptime by enter, Exit by key+enter \t \n",
      "Done.\n"
     ]
    }
   ],
   "source": [
    "n = 0\n",
    "while (os.path.isfile(name)):\n",
    "    print(\"The file \",name,\" already exists in this directory.\")\n",
    "    name = input(\"Please enter a new name for your output file: \")\n",
    "    \n",
    "newname = name\n",
    "    \n",
    "# Make some check about the string entered\n",
    "if len(newname)==0:\n",
    "    good_name=False\n",
    "else:\n",
    "    good_name=(newname[0].isalpha())*(newname.endswith(\".txt\")) # changed to txt file from dat file.\n",
    "    \n",
    "while n<5 and (not good_name):\n",
    "    newname = input(\"Name must end with .dat and first character must be a letter: \")\n",
    "    n+=1\n",
    "    if len(newname)==0:\n",
    "        newname = input(\"Name must not be empty: \")\n",
    "        n+=1\n",
    "        continue\n",
    "    else:\n",
    "        good_name=(newname[0].isalpha())*(newname.endswith(\".txt\"))\n",
    "            \n",
    "if not good_name:\n",
    "    sys.exit(\"ERROR: Filename does not fulfill basic requirements.\")\n",
    "else:\n",
    "    name = newname\n",
    "        \n",
    "    \n",
    "with open(name, \"w\") as outfile : \n",
    "    now = time()\n",
    "    laptime = 0.0\n",
    "    counter = 0\n",
    "    while( input( \"%4d \\t %10.4f \\t Laptime by enter, Exit by key+enter \\t\"%(counter, laptime) ) is \"\" ) : \n",
    "        counter += 1\n",
    "        laptime = time()-now\n",
    "        outfile.write(\"%4d \\t %10.4f \\n\"%(counter, laptime))\n",
    "        \n",
    "    print(\"Done.\")"
   ]
  },
  {
   "cell_type": "code",
   "execution_count": null,
   "id": "a801a119",
   "metadata": {},
   "outputs": [],
   "source": []
  }
 ],
 "metadata": {
  "kernelspec": {
   "display_name": "Python 3 (ipykernel)",
   "language": "python",
   "name": "python3"
  },
  "language_info": {
   "codemirror_mode": {
    "name": "ipython",
    "version": 3
   },
   "file_extension": ".py",
   "mimetype": "text/x-python",
   "name": "python",
   "nbconvert_exporter": "python",
   "pygments_lexer": "ipython3",
   "version": "3.11.5"
  }
 },
 "nbformat": 4,
 "nbformat_minor": 5
}
