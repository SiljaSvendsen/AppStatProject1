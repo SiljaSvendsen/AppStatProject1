{
 "cells": [
  {
   "cell_type": "markdown",
   "id": "77875fe2",
   "metadata": {},
   "source": [
    "# Pendulum Experiment\n",
    "\n",
    "Estimate the Earth's gravitational acceleration through a pendulum experiment\n",
    "\n",
    "## Author(s), contact(s), dates\n",
    "* Silja Svendsen (wng830@alumni.ku.dk)\n",
    "\n",
    "* 29/11/2023 (latest update)"
   ]
  },
  {
   "cell_type": "code",
   "execution_count": 1,
   "id": "2df7a898",
   "metadata": {},
   "outputs": [],
   "source": [
    "# import needed packages\n",
    "import numpy as np\n",
    "import matplotlib.pyplot as plt\n",
    "import glob\n",
    "import pandas as pd\n",
    "import seaborn as sns                                  # Make the plots nicer to look at\n",
    "from iminuit import Minuit                             # The actual fitting tool, better than scipy's\n",
    "import sys                                             # Module to see files and folders in directories\n",
    "from scipy import stats\n",
    "\n",
    "from IPython.core.display import Latex\n",
    "\n",
    "def lprint(*args,**kwargs):\n",
    "    \"\"\"Pretty print arguments as LaTeX using IPython display system \n",
    "    \n",
    "    Parameters\n",
    "    ----------\n",
    "    args : tuple \n",
    "        What to print (in LaTeX math mode)\n",
    "    kwargs : dict \n",
    "        optional keywords to pass to `display` \n",
    "    \"\"\"\n",
    "    display(Latex('$$'+' '.join(args)+'$$'),**kwargs)"
   ]
  },
  {
   "cell_type": "code",
   "execution_count": 2,
   "id": "76422c11",
   "metadata": {},
   "outputs": [],
   "source": [
    "sys.path.append('/Users/siljaxianpallisgaardsvendsen/Documents/KU_K/8_AppStat/AppStat2023/External_Functions/')\n",
    "from ExternalFunctionsNew import UnbinnedLH, BinnedLH, Chi2Regression\n",
    "from ExternalFunctionsNew import nice_string_output, add_text_to_ax   # Useful functions to print fit results on figure"
   ]
  },
  {
   "cell_type": "code",
   "execution_count": 3,
   "id": "36b5e62f",
   "metadata": {},
   "outputs": [],
   "source": [
    "# plotting settings\n",
    "sns.set()\n",
    "sns.set_context(\"paper\", font_scale = 1.4)\n",
    "sns.set_style(\"ticks\")"
   ]
  },
  {
   "cell_type": "code",
   "execution_count": 4,
   "id": "c19def68",
   "metadata": {},
   "outputs": [],
   "source": [
    "run_cell = False\n",
    "save_plots = False\n",
    "verbose = False"
   ]
  },
  {
   "cell_type": "code",
   "execution_count": 5,
   "id": "05ac56d6",
   "metadata": {},
   "outputs": [],
   "source": [
    "# load T data\n",
    "pendulum = []\n",
    "for filepath in glob.glob('/Users/siljaxianpallisgaardsvendsen/Documents/KU_K/8_AppStat/AppStatProject1/timer_*pendulum.txt'):\n",
    "    data = np.loadtxt(filepath)\n",
    "    pendulum.append(data[0:27]) #ensure all data set have the same length.\n",
    "\n",
    "if (verbose):\n",
    "    print(pendulum)"
   ]
  },
  {
   "cell_type": "code",
   "execution_count": 6,
   "id": "eed97288",
   "metadata": {},
   "outputs": [],
   "source": [
    "# Estimated T and their uncertainties from different measurement processes\n",
    "# T_final values and their uncertainties are appended from second linear fit\n",
    "First_linear_fit = [] #parameter values and uncertainties on parameter\n",
    "Second_linear_fit = [] # parameter values and uncertainties on parameter\n",
    "Gaussian_fit = []\n",
    "\n",
    "T_final = []\n",
    "sigmaT_final = []"
   ]
  },
  {
   "cell_type": "markdown",
   "id": "5839a04c",
   "metadata": {},
   "source": [
    "# Begin here for each time lapse data set"
   ]
  },
  {
   "cell_type": "markdown",
   "id": "3795fe9b",
   "metadata": {},
   "source": [
    "## First linear fit: get an estimate of the period (the slope)"
   ]
  },
  {
   "cell_type": "code",
   "execution_count": 100,
   "id": "b5a57c41",
   "metadata": {},
   "outputs": [],
   "source": [
    "experiment_number = 3 # change this one for each measurement process obtained\n",
    "\n",
    "# the following lines are for readability only\n",
    "oscillation_number = 0\n",
    "time_point = 1"
   ]
  },
  {
   "cell_type": "code",
   "execution_count": 101,
   "id": "fa814ee5",
   "metadata": {},
   "outputs": [],
   "source": [
    "tdiff = np.diff(pendulum[experiment_number][:,time_point])\n",
    "sigmat = np.sqrt(np.mean((tdiff-np.mean(tdiff))**2)) #RootMeanSquaredDistance"
   ]
  },
  {
   "cell_type": "code",
   "execution_count": 102,
   "id": "15fb0d87",
   "metadata": {},
   "outputs": [],
   "source": [
    "Npoints = np.shape(pendulum[experiment_number][:])[0]\n",
    "x = pendulum[experiment_number][:,oscillation_number]\n",
    "y = pendulum[experiment_number][:,time_point]\n",
    "sy0 = (sigmat)*np.ones(Npoints)"
   ]
  },
  {
   "cell_type": "code",
   "execution_count": 103,
   "id": "5ad25b35",
   "metadata": {},
   "outputs": [],
   "source": [
    "def linear_func(x, a, b):\n",
    "    return a*x + b"
   ]
  },
  {
   "cell_type": "code",
   "execution_count": 104,
   "id": "ff99dfb8",
   "metadata": {
    "scrolled": true
   },
   "outputs": [
    {
     "data": {
      "text/html": [
       "<table>\n",
       "    <tr>\n",
       "        <th colspan=\"5\" style=\"text-align:center\" title=\"Minimizer\"> Migrad </th>\n",
       "    </tr>\n",
       "    <tr>\n",
       "        <td colspan=\"2\" style=\"text-align:left\" title=\"Minimum value of function\"> FCN = 12.89 </td>\n",
       "        <td colspan=\"3\" style=\"text-align:center\" title=\"Total number of function and (optional) gradient evaluations\"> Nfcn = 38 </td>\n",
       "    </tr>\n",
       "    <tr>\n",
       "        <td colspan=\"2\" style=\"text-align:left\" title=\"Estimated distance to minimum and goal\"> EDM = 2.45e-19 (Goal: 0.0002) </td>\n",
       "        <td colspan=\"3\" style=\"text-align:center\" title=\"Total run time of algorithms\">  </td>\n",
       "    </tr>\n",
       "    <tr>\n",
       "        <td colspan=\"2\" style=\"text-align:center;background-color:#92CCA6;color:black\"> Valid Minimum </td>\n",
       "        <td colspan=\"3\" style=\"text-align:center;background-color:#92CCA6;color:black\"> No Parameters at limit </td>\n",
       "    </tr>\n",
       "    <tr>\n",
       "        <td colspan=\"2\" style=\"text-align:center;background-color:#92CCA6;color:black\"> Below EDM threshold (goal x 10) </td>\n",
       "        <td colspan=\"3\" style=\"text-align:center;background-color:#92CCA6;color:black\"> Below call limit </td>\n",
       "    </tr>\n",
       "    <tr>\n",
       "        <td style=\"text-align:center;background-color:#92CCA6;color:black\"> Covariance </td>\n",
       "        <td style=\"text-align:center;background-color:#92CCA6;color:black\"> Hesse ok </td>\n",
       "        <td style=\"text-align:center;background-color:#92CCA6;color:black\" title=\"Is covariance matrix accurate?\"> Accurate </td>\n",
       "        <td style=\"text-align:center;background-color:#92CCA6;color:black\" title=\"Is covariance matrix positive definite?\"> Pos. def. </td>\n",
       "        <td style=\"text-align:center;background-color:#92CCA6;color:black\" title=\"Was positive definiteness enforced by Minuit?\"> Not forced </td>\n",
       "    </tr>\n",
       "</table><table>\n",
       "    <tr>\n",
       "        <td></td>\n",
       "        <th title=\"Variable name\"> Name </th>\n",
       "        <th title=\"Value of parameter\"> Value </th>\n",
       "        <th title=\"Hesse error\"> Hesse Error </th>\n",
       "        <th title=\"Minos lower error\"> Minos Error- </th>\n",
       "        <th title=\"Minos upper error\"> Minos Error+ </th>\n",
       "        <th title=\"Lower limit of the parameter\"> Limit- </th>\n",
       "        <th title=\"Upper limit of the parameter\"> Limit+ </th>\n",
       "        <th title=\"Is the parameter fixed in the fit\"> Fixed </th>\n",
       "    </tr>\n",
       "    <tr>\n",
       "        <th> 0 </th>\n",
       "        <td> a </td>\n",
       "        <td> 2.7040 </td>\n",
       "        <td> 0.0012 </td>\n",
       "        <td>  </td>\n",
       "        <td>  </td>\n",
       "        <td>  </td>\n",
       "        <td>  </td>\n",
       "        <td>  </td>\n",
       "    </tr>\n",
       "    <tr>\n",
       "        <th> 1 </th>\n",
       "        <td> b </td>\n",
       "        <td> 6.528 </td>\n",
       "        <td> 0.020 </td>\n",
       "        <td>  </td>\n",
       "        <td>  </td>\n",
       "        <td>  </td>\n",
       "        <td>  </td>\n",
       "        <td>  </td>\n",
       "    </tr>\n",
       "</table><table>\n",
       "    <tr>\n",
       "        <td></td>\n",
       "        <th> a </th>\n",
       "        <th> b </th>\n",
       "    </tr>\n",
       "    <tr>\n",
       "        <th> a </th>\n",
       "        <td> 1.55e-06 </td>\n",
       "        <td style=\"background-color:rgb(136,136,250);color:black\"> -2.17e-05 <strong>(-0.874)</strong> </td>\n",
       "    </tr>\n",
       "    <tr>\n",
       "        <th> b </th>\n",
       "        <td style=\"background-color:rgb(136,136,250);color:black\"> -2.17e-05 <strong>(-0.874)</strong> </td>\n",
       "        <td> 0.000398 </td>\n",
       "    </tr>\n",
       "</table>"
      ],
      "text/plain": [
       "┌─────────────────────────────────────────────────────────────────────────┐\n",
       "│                                Migrad                                   │\n",
       "├──────────────────────────────────┬──────────────────────────────────────┤\n",
       "│ FCN = 12.89                      │              Nfcn = 38               │\n",
       "│ EDM = 2.45e-19 (Goal: 0.0002)    │                                      │\n",
       "├──────────────────────────────────┼──────────────────────────────────────┤\n",
       "│          Valid Minimum           │        No Parameters at limit        │\n",
       "├──────────────────────────────────┼──────────────────────────────────────┤\n",
       "│ Below EDM threshold (goal x 10)  │           Below call limit           │\n",
       "├───────────────┬──────────────────┼───────────┬─────────────┬────────────┤\n",
       "│  Covariance   │     Hesse ok     │ Accurate  │  Pos. def.  │ Not forced │\n",
       "└───────────────┴──────────────────┴───────────┴─────────────┴────────────┘\n",
       "┌───┬──────┬───────────┬───────────┬────────────┬────────────┬─────────┬─────────┬───────┐\n",
       "│   │ Name │   Value   │ Hesse Err │ Minos Err- │ Minos Err+ │ Limit-  │ Limit+  │ Fixed │\n",
       "├───┼──────┼───────────┼───────────┼────────────┼────────────┼─────────┼─────────┼───────┤\n",
       "│ 0 │ a    │  2.7040   │  0.0012   │            │            │         │         │       │\n",
       "│ 1 │ b    │   6.528   │   0.020   │            │            │         │         │       │\n",
       "└───┴──────┴───────────┴───────────┴────────────┴────────────┴─────────┴─────────┴───────┘\n",
       "┌───┬─────────────────────┐\n",
       "│   │         a         b │\n",
       "├───┼─────────────────────┤\n",
       "│ a │  1.55e-06 -2.17e-05 │\n",
       "│ b │ -2.17e-05  0.000398 │\n",
       "└───┴─────────────────────┘"
      ]
     },
     "execution_count": 104,
     "metadata": {},
     "output_type": "execute_result"
    }
   ],
   "source": [
    "chi2 = Chi2Regression(linear_func, x, y, sy0)\n",
    "minuit_linear = Minuit(chi2, a=np.mean(tdiff), b=0 )\n",
    "minuit_linear.errordef = Minuit.LEAST_SQUARES\n",
    "minuit_linear.migrad()"
   ]
  },
  {
   "cell_type": "code",
   "execution_count": 105,
   "id": "e474f390",
   "metadata": {},
   "outputs": [
    {
     "name": "stdout",
     "output_type": "stream",
     "text": [
      "  The ChiSquare fit converged - congratulations\n"
     ]
    }
   ],
   "source": [
    "if (not minuit_linear.fmin.is_valid) :\n",
    "    print(\"  WARNING: The ChiSquare fit DID NOT converge!!! \")\n",
    "else :\n",
    "    print(\"  The ChiSquare fit converged - congratulations\")"
   ]
  },
  {
   "cell_type": "code",
   "execution_count": 106,
   "id": "27bee62f",
   "metadata": {},
   "outputs": [
    {
     "name": "stdout",
     "output_type": "stream",
     "text": [
      "First linear fit\n",
      "Fit value: a = 2.70402 +/- 0.00125\n",
      "Fit value: b = 6.52792 +/- 0.01995\n"
     ]
    }
   ],
   "source": [
    "# get fit parameters from minuit\n",
    "a, b = minuit_linear.values[:]\n",
    "print('First linear fit')\n",
    "for name in minuit_linear.parameters:\n",
    "    print(\"Fit value: {0} = {1:.5f} +/- {2:.5f}\".format(name, minuit_linear.values[name],\n",
    "                                                        minuit_linear.errors[name]))\n",
    "    \n",
    "First_linear_fit.append([minuit_linear.values[:], minuit_linear.errors[:]])"
   ]
  },
  {
   "cell_type": "code",
   "execution_count": 107,
   "id": "5d15b7d6",
   "metadata": {},
   "outputs": [],
   "source": [
    "# plot fit\n",
    "x_fit = np.linspace(0, 25, 1000)\n",
    "y_fit_linear = linear_func(x_fit, a, b)"
   ]
  },
  {
   "cell_type": "markdown",
   "id": "57dcf29c",
   "metadata": {},
   "source": [
    "**Calculate the number of degrees of freedom along with the chi2 probability**"
   ]
  },
  {
   "cell_type": "code",
   "execution_count": 108,
   "id": "fc3cdc45",
   "metadata": {},
   "outputs": [
    {
     "name": "stdout",
     "output_type": "stream",
     "text": [
      "p-value: 0.9777746657390677\n"
     ]
    }
   ],
   "source": [
    "NDOF = Npoints - len(minuit_linear.values[:])\n",
    "chi2_val = minuit_linear.fval\n",
    "chi2_prob = stats.chi2.sf(chi2_val, NDOF)\n",
    "print('p-value:', chi2_prob)"
   ]
  },
  {
   "cell_type": "code",
   "execution_count": 109,
   "id": "ff084f9b",
   "metadata": {},
   "outputs": [],
   "source": [
    "d = {'Entries':  Npoints,\n",
    "     'Chi2':     chi2_val,\n",
    "     'ndf':      NDOF,\n",
    "     'Prob':     chi2_prob,\n",
    "    }\n",
    "\n",
    "for name in minuit_linear.parameters:\n",
    "    d[name] = [minuit_linear.values[name], minuit_linear.errors[name]]"
   ]
  },
  {
   "cell_type": "code",
   "execution_count": 110,
   "id": "736be614",
   "metadata": {},
   "outputs": [
    {
     "data": {
      "image/png": "[encoded data removed]",
      "text/plain": [
       "<Figure size 1200x600 with 1 Axes>"
      ]
     },
     "metadata": {},
     "output_type": "display_data"
    }
   ],
   "source": [
    "fig1, ax1 = plt.subplots(figsize = (12,6))\n",
    "\n",
    "ax1.errorbar(x, y, yerr = sy0, fmt = '.', label = f'Experiment = {experiment_number}')\n",
    "ax1.set(title = \"First linear fit\",\n",
    "        xlabel = 'Oscillation number',\n",
    "        ylabel = 'Time')\n",
    "ax1.plot(x_fit, y_fit_linear, '-', label = '$y = a*x+b$')\n",
    "text = nice_string_output(d, extra_spacing=2, decimals=3)\n",
    "add_text_to_ax(0.02, 0.95, text, ax1, fontsize=12)\n",
    "\n",
    "\n",
    "if save_plots:\n",
    "    fig1.savefig('first_linear_fit.pdf', dpi = 600) #remember to change title"
   ]
  },
  {
   "cell_type": "markdown",
   "id": "7b0b3be0",
   "metadata": {},
   "source": [
    "## Histogramn residuals: Get estimation of error on T (and L)"
   ]
  },
  {
   "cell_type": "code",
   "execution_count": 111,
   "id": "728e046c",
   "metadata": {},
   "outputs": [],
   "source": [
    "residual = (pendulum[experiment_number][:,time_point] - \n",
    "            linear_func(pendulum[experiment_number][:,oscillation_number], a, b))"
   ]
  },
  {
   "cell_type": "code",
   "execution_count": 112,
   "id": "39fe1730",
   "metadata": {},
   "outputs": [],
   "source": [
    "# parameteres\n",
    "Nbins = 8\n",
    "xmin, xmax = -0.2, 0.2"
   ]
  },
  {
   "cell_type": "markdown",
   "id": "7cae165e",
   "metadata": {},
   "source": [
    "### Fit to the data/ histogram (1D)\n",
    "Using the fiting method binned likelihood-fit because the data is binned and low statistics.\n",
    "\n",
    "I assume that the distances to the fit parameter is gaussian distributed."
   ]
  },
  {
   "cell_type": "code",
   "execution_count": 113,
   "id": "9a2471ab",
   "metadata": {},
   "outputs": [],
   "source": [
    "def gauss_pdf(x, mu, sigma):\n",
    "    '''normalised gaussian'''\n",
    "    return 1/np.sqrt(2*np.pi)/sigma*np.exp(-0.5*(x-mu)**2/sigma**2)\n",
    "\n",
    "def gauss_extended(x, N, mu, sigma):\n",
    "    '''non-normalised gaussian'''\n",
    "    return N*gauss_pdf(x, mu, sigma)"
   ]
  },
  {
   "cell_type": "code",
   "execution_count": 114,
   "id": "c7dd27a5",
   "metadata": {},
   "outputs": [],
   "source": [
    "bllh = BinnedLH(gauss_extended,\n",
    "               residual,\n",
    "               bins = Nbins,\n",
    "               bound =(xmin, xmax),\n",
    "               extended=True)"
   ]
  },
  {
   "cell_type": "code",
   "execution_count": 115,
   "id": "4d3b0fe8",
   "metadata": {},
   "outputs": [
    {
     "data": {
      "text/html": [
       "<table>\n",
       "    <tr>\n",
       "        <th colspan=\"5\" style=\"text-align:center\" title=\"Minimizer\"> Migrad </th>\n",
       "    </tr>\n",
       "    <tr>\n",
       "        <td colspan=\"2\" style=\"text-align:left\" title=\"Minimum value of function\"> FCN = 1.164 </td>\n",
       "        <td colspan=\"3\" style=\"text-align:center\" title=\"Total number of function and (optional) gradient evaluations\"> Nfcn = 138 </td>\n",
       "    </tr>\n",
       "    <tr>\n",
       "        <td colspan=\"2\" style=\"text-align:left\" title=\"Estimated distance to minimum and goal\"> EDM = 4.3e-09 (Goal: 0.0001) </td>\n",
       "        <td colspan=\"3\" style=\"text-align:center\" title=\"Total run time of algorithms\"> time = 0.1 sec </td>\n",
       "    </tr>\n",
       "    <tr>\n",
       "        <td colspan=\"2\" style=\"text-align:center;background-color:#92CCA6;color:black\"> Valid Minimum </td>\n",
       "        <td colspan=\"3\" style=\"text-align:center;background-color:#92CCA6;color:black\"> No Parameters at limit </td>\n",
       "    </tr>\n",
       "    <tr>\n",
       "        <td colspan=\"2\" style=\"text-align:center;background-color:#92CCA6;color:black\"> Below EDM threshold (goal x 10) </td>\n",
       "        <td colspan=\"3\" style=\"text-align:center;background-color:#92CCA6;color:black\"> Below call limit </td>\n",
       "    </tr>\n",
       "    <tr>\n",
       "        <td style=\"text-align:center;background-color:#92CCA6;color:black\"> Covariance </td>\n",
       "        <td style=\"text-align:center;background-color:#92CCA6;color:black\"> Hesse ok </td>\n",
       "        <td style=\"text-align:center;background-color:#92CCA6;color:black\" title=\"Is covariance matrix accurate?\"> Accurate </td>\n",
       "        <td style=\"text-align:center;background-color:#92CCA6;color:black\" title=\"Is covariance matrix positive definite?\"> Pos. def. </td>\n",
       "        <td style=\"text-align:center;background-color:#92CCA6;color:black\" title=\"Was positive definiteness enforced by Minuit?\"> Not forced </td>\n",
       "    </tr>\n",
       "</table><table>\n",
       "    <tr>\n",
       "        <td></td>\n",
       "        <th title=\"Variable name\"> Name </th>\n",
       "        <th title=\"Value of parameter\"> Value </th>\n",
       "        <th title=\"Hesse error\"> Hesse Error </th>\n",
       "        <th title=\"Minos lower error\"> Minos Error- </th>\n",
       "        <th title=\"Minos upper error\"> Minos Error+ </th>\n",
       "        <th title=\"Lower limit of the parameter\"> Limit- </th>\n",
       "        <th title=\"Upper limit of the parameter\"> Limit+ </th>\n",
       "        <th title=\"Is the parameter fixed in the fit\"> Fixed </th>\n",
       "    </tr>\n",
       "    <tr>\n",
       "        <th> 0 </th>\n",
       "        <td> N </td>\n",
       "        <td> 27 </td>\n",
       "        <td> 5 </td>\n",
       "        <td>  </td>\n",
       "        <td>  </td>\n",
       "        <td>  </td>\n",
       "        <td>  </td>\n",
       "        <td>  </td>\n",
       "    </tr>\n",
       "    <tr>\n",
       "        <th> 1 </th>\n",
       "        <td> mu </td>\n",
       "        <td> -0.001 </td>\n",
       "        <td> 0.007 </td>\n",
       "        <td>  </td>\n",
       "        <td>  </td>\n",
       "        <td>  </td>\n",
       "        <td>  </td>\n",
       "        <td>  </td>\n",
       "    </tr>\n",
       "    <tr>\n",
       "        <th> 2 </th>\n",
       "        <td> sigma </td>\n",
       "        <td> 0.034 </td>\n",
       "        <td> 0.005 </td>\n",
       "        <td>  </td>\n",
       "        <td>  </td>\n",
       "        <td>  </td>\n",
       "        <td>  </td>\n",
       "        <td>  </td>\n",
       "    </tr>\n",
       "</table><table>\n",
       "    <tr>\n",
       "        <td></td>\n",
       "        <th> N </th>\n",
       "        <th> mu </th>\n",
       "        <th> sigma </th>\n",
       "    </tr>\n",
       "    <tr>\n",
       "        <th> N </th>\n",
       "        <td> 27 </td>\n",
       "        <td style=\"background-color:rgb(250,250,250);color:black\"> 4.89e-07 </td>\n",
       "        <td style=\"background-color:rgb(250,250,250);color:black\"> -1.19e-05 </td>\n",
       "    </tr>\n",
       "    <tr>\n",
       "        <th> mu </th>\n",
       "        <td style=\"background-color:rgb(250,250,250);color:black\"> 4.89e-07 </td>\n",
       "        <td> 5.04e-05 </td>\n",
       "        <td style=\"background-color:rgb(250,249,249);color:black\"> 2.27e-07 <strong>(0.006)</strong> </td>\n",
       "    </tr>\n",
       "    <tr>\n",
       "        <th> sigma </th>\n",
       "        <td style=\"background-color:rgb(250,250,250);color:black\"> -1.19e-05 </td>\n",
       "        <td style=\"background-color:rgb(250,249,249);color:black\"> 2.27e-07 <strong>(0.006)</strong> </td>\n",
       "        <td> 2.98e-05 </td>\n",
       "    </tr>\n",
       "</table>"
      ],
      "text/plain": [
       "┌─────────────────────────────────────────────────────────────────────────┐\n",
       "│                                Migrad                                   │\n",
       "├──────────────────────────────────┬──────────────────────────────────────┤\n",
       "│ FCN = 1.164                      │              Nfcn = 138              │\n",
       "│ EDM = 4.3e-09 (Goal: 0.0001)     │            time = 0.1 sec            │\n",
       "├──────────────────────────────────┼──────────────────────────────────────┤\n",
       "│          Valid Minimum           │        No Parameters at limit        │\n",
       "├──────────────────────────────────┼──────────────────────────────────────┤\n",
       "│ Below EDM threshold (goal x 10)  │           Below call limit           │\n",
       "├───────────────┬──────────────────┼───────────┬─────────────┬────────────┤\n",
       "│  Covariance   │     Hesse ok     │ Accurate  │  Pos. def.  │ Not forced │\n",
       "└───────────────┴──────────────────┴───────────┴─────────────┴────────────┘\n",
       "┌───┬───────┬───────────┬───────────┬────────────┬────────────┬─────────┬─────────┬───────┐\n",
       "│   │ Name  │   Value   │ Hesse Err │ Minos Err- │ Minos Err+ │ Limit-  │ Limit+  │ Fixed │\n",
       "├───┼───────┼───────────┼───────────┼────────────┼────────────┼─────────┼─────────┼───────┤\n",
       "│ 0 │ N     │    27     │     5     │            │            │         │         │       │\n",
       "│ 1 │ mu    │  -0.001   │   0.007   │            │            │         │         │       │\n",
       "│ 2 │ sigma │   0.034   │   0.005   │            │            │         │         │       │\n",
       "└───┴───────┴───────────┴───────────┴────────────┴────────────┴─────────┴─────────┴───────┘\n",
       "┌───────┬───────────────────────────────┐\n",
       "│       │         N        mu     sigma │\n",
       "├───────┼───────────────────────────────┤\n",
       "│     N │        27  4.89e-07 -1.19e-05 │\n",
       "│    mu │  4.89e-07  5.04e-05  2.27e-07 │\n",
       "│ sigma │ -1.19e-05  2.27e-07  2.98e-05 │\n",
       "└───────┴───────────────────────────────┘"
      ]
     },
     "execution_count": 115,
     "metadata": {},
     "output_type": "execute_result"
    }
   ],
   "source": [
    "Minuit.print_level = 1\n",
    "minuit_bllh = Minuit(bllh, mu = 0, sigma = 0.4, N = 10)\n",
    "minuit_bllh.errordef = Minuit.LIKELIHOOD\n",
    "minuit_bllh.migrad() #perform the actual fit"
   ]
  },
  {
   "cell_type": "code",
   "execution_count": 116,
   "id": "45a533b1",
   "metadata": {},
   "outputs": [
    {
     "name": "stdout",
     "output_type": "stream",
     "text": [
      "  Fit value: N = 27.00080 +/- 5.19631\n",
      "  Fit value: mu = -0.00098 +/- 0.00710\n",
      "  Fit value: sigma = 0.03396 +/- 0.00546\n",
      "  LLH value =    1.2\n"
     ]
    }
   ],
   "source": [
    "fit_N, fit_mu, fit_sigma = minuit_bllh.values[:]     # The fitted values of the parameters\n",
    "for name in minuit_bllh.parameters:\n",
    "    value, error = minuit_bllh.values[name], minuit_bllh.errors[name]\n",
    "    print(f\"  Fit value: {name} = {value:.5f} +/- {error:.5f}\")\n",
    "    \n",
    "LLH_value = minuit_bllh.fval                         # The LogLikeliHood (LLH) value\n",
    "print(f\"  LLH value = {LLH_value:6.1f}\")\n",
    "\n",
    "Gaussian_fit.append([minuit_bllh.values[:], minuit_bllh.errors[:]])"
   ]
  },
  {
   "cell_type": "code",
   "execution_count": 117,
   "id": "adb67787",
   "metadata": {},
   "outputs": [],
   "source": [
    "# used to plot fits\n",
    "binwidth = (xmax-xmin)/ Nbins\n",
    "x_fit = np.linspace(xmin, xmax, 1000)\n",
    "y_fit = binwidth*gauss_extended(x_fit, fit_N, fit_mu, fit_sigma)"
   ]
  },
  {
   "cell_type": "markdown",
   "id": "ae5fc73f",
   "metadata": {},
   "source": [
    "### Get statistics"
   ]
  },
  {
   "cell_type": "code",
   "execution_count": 118,
   "id": "50328dfc",
   "metadata": {},
   "outputs": [],
   "source": [
    "# did not take the chi2 of binned likelihood fit because it is not costum."
   ]
  },
  {
   "cell_type": "markdown",
   "id": "9bcce72c",
   "metadata": {},
   "source": [
    "### Plot binned data and fit"
   ]
  },
  {
   "cell_type": "code",
   "execution_count": 119,
   "id": "99f136a1",
   "metadata": {},
   "outputs": [],
   "source": [
    "d = {'Entries':  Npoints,\n",
    "     #'Mean':     x_all.mean(),\n",
    "     #'Std':      x_all.std(ddof=1),\n",
    "     # 'N':        [minuit.values['N'], minuit.errors['N']],\n",
    "     'mu':       [minuit_bllh.values['mu'], minuit_bllh.errors['mu']],\n",
    "     'sigma':    [minuit_bllh.values['sigma'], minuit_bllh.errors['sigma']],\n",
    "     #'Chi2':     chi2_val,\n",
    "     #'ndf':      N_DOF,\n",
    "     #'Prob':     chi2_prob,\n",
    "    }"
   ]
  },
  {
   "cell_type": "code",
   "execution_count": 120,
   "id": "072da5d6",
   "metadata": {},
   "outputs": [],
   "source": [
    "if run_cell:\n",
    "    # plotting histogram and fit\n",
    "    fig2, ax2 = plt.subplots(figsize = (12,6))\n",
    "\n",
    "    hist = ax2.hist(residual, bins=Nbins, range=(xmin, xmax),\n",
    "                    histtype='step', linewidth=2, color='blue',\n",
    "                    label='Binned T data ($\\mu$ = 0)')\n",
    "\n",
    "    ax2.plot(x_fit, y_fit, '-', color ='blue', label = 'Fit with Gaussian')\n",
    "    ax2.set(xlabel = r'$T_i-T_{parameter}}$',\n",
    "            ylabel = f'Frequency / {binwidth}',\n",
    "            title = r'Distribution of $T_i-T_{parameter}$') # distribution of differences between Ti and the parameter value found in the first linear fit. \n",
    "    ax2.legend(loc = 'best')\n",
    "    text = nice_string_output(d, extra_spacing=2, decimals=3)\n",
    "    add_text_to_ax(0.02, 0.95, text, ax2, fontsize=12)\n",
    "    fig2.tight_layout();\n",
    "\n",
    "    if save_plots:\n",
    "        fig.save_plots('Histogram_period.pdf', dpi=600) #remember to change name"
   ]
  },
  {
   "cell_type": "code",
   "execution_count": 121,
   "id": "3fd69cc1",
   "metadata": {},
   "outputs": [],
   "source": [
    "if run_cell:\n",
    "    residual = (pendulum[experiment_number][:,time_point] - \n",
    "                linear_func(pendulum[experiment_number][:,oscillation_number], a, b))\n",
    "    plt.errorbar(pendulum[experiment_number][:,oscillation_number],residual,yerr = sy0, fmt = '.', color = 'blue')\n",
    "    plt.axhline(y = 0, linewidth = 2, color = 'blue')\n",
    "    plt.axhline(y = minuit_bllh.values['sigma'], linestyle = '--')\n",
    "    plt.axhline(y = - minuit_bllh.values['sigma'], linestyle = '--')\n",
    "\n",
    "    plt.ylabel('Time residuals', color = 'blue')\n",
    "    plt.xlabel('Oscillation number', color = 'blue')"
   ]
  },
  {
   "cell_type": "markdown",
   "id": "60f2936a",
   "metadata": {},
   "source": [
    "# Second Linear Fit (Get uncertainty on T)"
   ]
  },
  {
   "cell_type": "code",
   "execution_count": 122,
   "id": "3d16778b",
   "metadata": {},
   "outputs": [],
   "source": [
    "x = pendulum[experiment_number][:,oscillation_number]\n",
    "y = pendulum[experiment_number][:,time_point]\n",
    "# update sy\n",
    "# accuracy in each timing point obtained from fitting binned T data with a Gaussian\n",
    "sy = minuit_bllh.values['sigma']*np.ones(Npoints)\n",
    "\n",
    "if verbose:\n",
    "    print(sy)"
   ]
  },
  {
   "cell_type": "code",
   "execution_count": 123,
   "id": "cc5ea142",
   "metadata": {},
   "outputs": [
    {
     "data": {
      "text/html": [
       "<table>\n",
       "    <tr>\n",
       "        <th colspan=\"5\" style=\"text-align:center\" title=\"Minimizer\"> Migrad </th>\n",
       "    </tr>\n",
       "    <tr>\n",
       "        <td colspan=\"2\" style=\"text-align:left\" title=\"Minimum value of function\"> FCN = 28.41 </td>\n",
       "        <td colspan=\"3\" style=\"text-align:center\" title=\"Total number of function and (optional) gradient evaluations\"> Nfcn = 38 </td>\n",
       "    </tr>\n",
       "    <tr>\n",
       "        <td colspan=\"2\" style=\"text-align:left\" title=\"Estimated distance to minimum and goal\"> EDM = 1.74e-18 (Goal: 0.0002) </td>\n",
       "        <td colspan=\"3\" style=\"text-align:center\" title=\"Total run time of algorithms\">  </td>\n",
       "    </tr>\n",
       "    <tr>\n",
       "        <td colspan=\"2\" style=\"text-align:center;background-color:#92CCA6;color:black\"> Valid Minimum </td>\n",
       "        <td colspan=\"3\" style=\"text-align:center;background-color:#92CCA6;color:black\"> No Parameters at limit </td>\n",
       "    </tr>\n",
       "    <tr>\n",
       "        <td colspan=\"2\" style=\"text-align:center;background-color:#92CCA6;color:black\"> Below EDM threshold (goal x 10) </td>\n",
       "        <td colspan=\"3\" style=\"text-align:center;background-color:#92CCA6;color:black\"> Below call limit </td>\n",
       "    </tr>\n",
       "    <tr>\n",
       "        <td style=\"text-align:center;background-color:#92CCA6;color:black\"> Covariance </td>\n",
       "        <td style=\"text-align:center;background-color:#92CCA6;color:black\"> Hesse ok </td>\n",
       "        <td style=\"text-align:center;background-color:#92CCA6;color:black\" title=\"Is covariance matrix accurate?\"> Accurate </td>\n",
       "        <td style=\"text-align:center;background-color:#92CCA6;color:black\" title=\"Is covariance matrix positive definite?\"> Pos. def. </td>\n",
       "        <td style=\"text-align:center;background-color:#92CCA6;color:black\" title=\"Was positive definiteness enforced by Minuit?\"> Not forced </td>\n",
       "    </tr>\n",
       "</table><table>\n",
       "    <tr>\n",
       "        <td></td>\n",
       "        <th title=\"Variable name\"> Name </th>\n",
       "        <th title=\"Value of parameter\"> Value </th>\n",
       "        <th title=\"Hesse error\"> Hesse Error </th>\n",
       "        <th title=\"Minos lower error\"> Minos Error- </th>\n",
       "        <th title=\"Minos upper error\"> Minos Error+ </th>\n",
       "        <th title=\"Lower limit of the parameter\"> Limit- </th>\n",
       "        <th title=\"Upper limit of the parameter\"> Limit+ </th>\n",
       "        <th title=\"Is the parameter fixed in the fit\"> Fixed </th>\n",
       "    </tr>\n",
       "    <tr>\n",
       "        <th> 0 </th>\n",
       "        <td> a </td>\n",
       "        <td> 2.7040 </td>\n",
       "        <td> 0.0008 </td>\n",
       "        <td>  </td>\n",
       "        <td>  </td>\n",
       "        <td>  </td>\n",
       "        <td>  </td>\n",
       "        <td>  </td>\n",
       "    </tr>\n",
       "    <tr>\n",
       "        <th> 1 </th>\n",
       "        <td> b </td>\n",
       "        <td> 6.528 </td>\n",
       "        <td> 0.013 </td>\n",
       "        <td>  </td>\n",
       "        <td>  </td>\n",
       "        <td>  </td>\n",
       "        <td>  </td>\n",
       "        <td>  </td>\n",
       "    </tr>\n",
       "</table><table>\n",
       "    <tr>\n",
       "        <td></td>\n",
       "        <th> a </th>\n",
       "        <th> b </th>\n",
       "    </tr>\n",
       "    <tr>\n",
       "        <th> a </th>\n",
       "        <td> 7.04e-07 </td>\n",
       "        <td style=\"background-color:rgb(136,136,250);color:black\"> -9.86e-06 <strong>(-0.874)</strong> </td>\n",
       "    </tr>\n",
       "    <tr>\n",
       "        <th> b </th>\n",
       "        <td style=\"background-color:rgb(136,136,250);color:black\"> -9.86e-06 <strong>(-0.874)</strong> </td>\n",
       "        <td> 0.000181 </td>\n",
       "    </tr>\n",
       "</table>"
      ],
      "text/plain": [
       "┌─────────────────────────────────────────────────────────────────────────┐\n",
       "│                                Migrad                                   │\n",
       "├──────────────────────────────────┬──────────────────────────────────────┤\n",
       "│ FCN = 28.41                      │              Nfcn = 38               │\n",
       "│ EDM = 1.74e-18 (Goal: 0.0002)    │                                      │\n",
       "├──────────────────────────────────┼──────────────────────────────────────┤\n",
       "│          Valid Minimum           │        No Parameters at limit        │\n",
       "├──────────────────────────────────┼──────────────────────────────────────┤\n",
       "│ Below EDM threshold (goal x 10)  │           Below call limit           │\n",
       "├───────────────┬──────────────────┼───────────┬─────────────┬────────────┤\n",
       "│  Covariance   │     Hesse ok     │ Accurate  │  Pos. def.  │ Not forced │\n",
       "└───────────────┴──────────────────┴───────────┴─────────────┴────────────┘\n",
       "┌───┬──────┬───────────┬───────────┬────────────┬────────────┬─────────┬─────────┬───────┐\n",
       "│   │ Name │   Value   │ Hesse Err │ Minos Err- │ Minos Err+ │ Limit-  │ Limit+  │ Fixed │\n",
       "├───┼──────┼───────────┼───────────┼────────────┼────────────┼─────────┼─────────┼───────┤\n",
       "│ 0 │ a    │  2.7040   │  0.0008   │            │            │         │         │       │\n",
       "│ 1 │ b    │   6.528   │   0.013   │            │            │         │         │       │\n",
       "└───┴──────┴───────────┴───────────┴────────────┴────────────┴─────────┴─────────┴───────┘\n",
       "┌───┬─────────────────────┐\n",
       "│   │         a         b │\n",
       "├───┼─────────────────────┤\n",
       "│ a │  7.04e-07 -9.86e-06 │\n",
       "│ b │ -9.86e-06  0.000181 │\n",
       "└───┴─────────────────────┘"
      ]
     },
     "execution_count": 123,
     "metadata": {},
     "output_type": "execute_result"
    }
   ],
   "source": [
    "chi2 = Chi2Regression(linear_func, x, y, sy)\n",
    "minuit_linear = Minuit(chi2, a=np.mean(tdiff), b=0 )\n",
    "minuit_linear.errordef = Minuit.LEAST_SQUARES\n",
    "minuit_linear.migrad()"
   ]
  },
  {
   "cell_type": "code",
   "execution_count": 124,
   "id": "8ef19358",
   "metadata": {},
   "outputs": [
    {
     "name": "stdout",
     "output_type": "stream",
     "text": [
      "  The ChiSquare fit converged - congratulations\n"
     ]
    }
   ],
   "source": [
    "if (not minuit_linear.fmin.is_valid) :\n",
    "    print(\"  WARNING: The ChiSquare fit DID NOT converge!!! \")\n",
    "else :\n",
    "    print(\"  The ChiSquare fit converged - congratulations\")"
   ]
  },
  {
   "cell_type": "code",
   "execution_count": 125,
   "id": "cc3fb4de",
   "metadata": {},
   "outputs": [
    {
     "name": "stdout",
     "output_type": "stream",
     "text": [
      "Second linear fit\n",
      "Fit value: a = 2.70402 +/- 0.00084\n",
      "Fit value: b = 6.52792 +/- 0.01344\n"
     ]
    }
   ],
   "source": [
    "# get fit parameters from minuit\n",
    "a, b = minuit_linear.values[:]\n",
    "print('Second linear fit')\n",
    "for name in minuit_linear.parameters:\n",
    "    print(\"Fit value: {0} = {1:.5f} +/- {2:.5f}\".format(name,\n",
    "                                                        minuit_linear.values[name],\n",
    "                                                        minuit_linear.errors[name]))\n",
    "\n",
    "# append to T_final and sigmaT_final\n",
    "T_final.append(minuit_linear.values[0])      #slope\n",
    "sigmaT_final.append(minuit_linear.errors[0]) # error on slope = uncertainty on the time.\n",
    "\n"
   ]
  },
  {
   "cell_type": "code",
   "execution_count": 126,
   "id": "21368aa3",
   "metadata": {},
   "outputs": [],
   "source": [
    "# plot fit\n",
    "x_fit = np.linspace(0, 27, 1000)\n",
    "y_fit_linear = linear_func(x_fit, a, b)"
   ]
  },
  {
   "cell_type": "code",
   "execution_count": 127,
   "id": "f6ca6000",
   "metadata": {},
   "outputs": [],
   "source": [
    "NDOF = Npoints - len(minuit_linear.values[:])\n",
    "chi2_val = minuit_linear.fval\n",
    "chi2_prob = stats.chi2.sf(chi2_val, NDOF)\n",
    "\n",
    "Second_linear_fit.append([a, minuit_linear.errors[0],chi2_val, chi2_prob])"
   ]
  },
  {
   "cell_type": "markdown",
   "id": "5be62ba8",
   "metadata": {},
   "source": [
    "# STOP!\n",
    " change `experiment_number` and rerun"
   ]
  },
  {
   "cell_type": "code",
   "execution_count": 128,
   "id": "6b6469e6",
   "metadata": {},
   "outputs": [],
   "source": [
    "if run_cell:\n",
    "    d = {'Entries':  Npoints,\n",
    "         'Chi2':     chi2_val,\n",
    "         'ndf':      NDOF,\n",
    "         'Prob':     chi2_prob,\n",
    "        }\n",
    "\n",
    "\n",
    "    for name in minuit_linear.parameters:\n",
    "        d[name] = [minuit_linear.values[name], minuit_linear.errors[name]]\n",
    "        \n",
    "    fig3, ax3 = plt.subplots(figsize = (12,6))\n",
    "\n",
    "    ax3.errorbar(x, y, yerr = sy, fmt = '.', label = f'Experiment = {experiment_number}')\n",
    "    ax3.set(title = \"Second linear fit\",\n",
    "            xlabel = 'Oscillation number',\n",
    "            ylabel = 'Time')\n",
    "    ax3.plot(x_fit, y_fit_linear, '-', label = '$y = a*x+b$')\n",
    "    text = nice_string_output(d, extra_spacing=2, decimals=3)\n",
    "    add_text_to_ax(0.02, 0.95, text, ax3, fontsize=12)\n",
    "    ax3.legend(loc = 'upper center')\n",
    "    fig3.tight_layout();\n",
    "\n",
    "    if save_plots:\n",
    "        fig1.savefig('second_linear_fit.pdf', dpi = 600) #remember to change title"
   ]
  },
  {
   "cell_type": "markdown",
   "id": "9484dd0d",
   "metadata": {},
   "source": [
    "# Combine all plots in one"
   ]
  },
  {
   "cell_type": "code",
   "execution_count": 129,
   "id": "9e645775",
   "metadata": {},
   "outputs": [
    {
     "data": {
      "image/png": "[encoded data removed]",
      "text/plain": [
       "<Figure size 1200x800 with 1 Axes>"
      ]
     },
     "metadata": {},
     "output_type": "display_data"
    }
   ],
   "source": [
    "# for readability\n",
    "fitcolor = 'tab:red'\n",
    "datacolor = 'tab:blue'\n",
    "\n",
    "# PLOT DATA AND SECOND FIT\n",
    "# Data\n",
    "x = pendulum[experiment_number][:,oscillation_number]\n",
    "y = pendulum[experiment_number][:,time_point]\n",
    "sy = minuit_bllh.values['sigma']*np.ones(Npoints)\n",
    "# fit data\n",
    "x_fit = np.linspace(0, 27, 1000)\n",
    "y_fit_linear = linear_func(x_fit, a, b)\n",
    "d = {'Entries':  Npoints,\n",
    "     'Chi2':     chi2_val,\n",
    "     'ndf':      NDOF,\n",
    "     'Prob':     chi2_prob,\n",
    "    }\n",
    "for name in minuit_linear.parameters:\n",
    "    d[name] = [minuit_linear.values[name], minuit_linear.errors[name]]\n",
    "\n",
    "# plot\n",
    "fig_all, ax_1 = plt.subplots(figsize = (12, 8))\n",
    "ax_1.set_ylabel('Time elapsed [s]')\n",
    "ax_1.errorbar(x, y, yerr = sy, fmt = '.',\n",
    "                color='black', label = f'Experiment {experiment_number+1}')\n",
    "ax_1.plot(x_fit, y_fit_linear, '-', color = fitcolor,label = 'Second linear fit: $y = a*x+b$')\n",
    "text = nice_string_output(d, extra_spacing=2, decimals=3)\n",
    "add_text_to_ax(0.02, 0.95, text, ax_1, fontsize=12)\n",
    "ax_1.legend(loc = 'upper center')\n",
    "ax_1.set_xlim(0,28)\n",
    "\n",
    "# Remove x-axis spines\n",
    "ax_1.spines['bottom'].set_visible(False)\n",
    "ax_1.tick_params(axis='x', which='both', bottom=False, top=False, labelbottom=False)\n",
    "\n",
    "# PLOT RESIDUALS\n",
    "# Create inset figure with borders\n",
    "ax2 = ax_1.inset_axes([0.0,-0.2,1.0, 0.2], frame_on = True)\n",
    "ax2.set_xlim(0,28)\n",
    "ax2.set_ylabel('Time\\n residuals [s]')\n",
    "ax2.set_xlabel('Oscillation number')\n",
    "ax2.errorbar(pendulum[experiment_number][:,oscillation_number],residual,\n",
    "             yerr = sy0, fmt = '.', color = datacolor)\n",
    "ax2.axhline(y = 0, linewidth = 2, color = 'black')\n",
    "ax2.axhline(y = minuit_bllh.values['sigma'], linestyle = '--', color ='gray')\n",
    "ax2.axhline(y = - minuit_bllh.values['sigma'], linestyle = '--', color = 'gray')\n",
    "ax2.tick_params(axis='y')\n",
    "ax2.set_ylim(-0.25,0.25)\n",
    "\n",
    "\n",
    "# PLOT DISTRIBUTION AND GUASSIAN FIT\n",
    "# used to plot fits\n",
    "binwidth = (xmax-xmin)/ Nbins\n",
    "x_fit = np.linspace(xmin, xmax, 1000)\n",
    "y_fit = binwidth*gauss_extended(x_fit, fit_N, fit_mu, fit_sigma)\n",
    "d = {'Entries':  Npoints,\n",
    "     'mu':       [minuit_bllh.values['mu'], minuit_bllh.errors['mu']],\n",
    "     'sigma':    [minuit_bllh.values['sigma'], minuit_bllh.errors['sigma']],\n",
    "    }\n",
    "\n",
    "\n",
    "ax3 = ax_1.inset_axes([0.7, 0.11, 0.28, 0.5], frame_on = True)\n",
    "hist = ax3.hist(residual, bins=Nbins, range=(xmin, xmax),\n",
    "                histtype='step', linewidth=2, color=datacolor,\n",
    "                label='Binned T data ($\\mu$ = 0)')\n",
    "ax3.set_ylim(0,12)\n",
    "ax3.plot(x_fit, y_fit, '-', color =fitcolor, label = 'Fit with Gaussian')\n",
    "ax3.set(xlabel = r'Time residuals [s]',\n",
    "        ylabel = f'Frequency / {binwidth}',\n",
    "        title = r'Distribution of time residuals') # distribution of differences between Ti and the parameter value found in the first linear fit. \n",
    "text = nice_string_output(d, extra_spacing=2, decimals=3)\n",
    "add_text_to_ax(0.02, 0.95, text, ax3, fontsize=12)\n",
    "\n",
    "plt.tight_layout()\n",
    "if save_plots:\n",
    "    plt.savefig('Fit_time_measurements1_Silja.png', dpi = 600)\n"
   ]
  },
  {
   "cell_type": "markdown",
   "id": "229d0d77",
   "metadata": {},
   "source": [
    "# Period T and its error\n",
    "Period on T is then a weighted mean of `T_final` and the error should be a weighted error using `sigmaT_final`."
   ]
  },
  {
   "cell_type": "code",
   "execution_count": 133,
   "id": "684f4f16",
   "metadata": {},
   "outputs": [
    {
     "name": "stdout",
     "output_type": "stream",
     "text": [
      "0\n",
      "First linear fit:\n",
      "a, b, error a, error b\n",
      " [[2.702721184371553, 6.006225641032565], [0.002249251218491786, 0.03603484613967958]]\n",
      "Second linear fit:\n",
      "a, error a, chi2, p-value\n",
      " [2.7027211843711743, 0.0015200827192728401, 24.628024819960718, 0.4833675551868697]\n",
      "Gaussian fit:\n",
      "mu, sigma\n",
      " [[27.027966607569386, -0.004696404587006927, 0.06152116488367686], [5.20182519195588, 0.012248980875338327, 0.009226707980813641]]\n",
      "1\n",
      "First linear fit:\n",
      "a, b, error a, error b\n",
      " [[2.707776984126628, 12.017848148141795], [0.0009698231453851013, 0.015537361575466993]]\n",
      "Second linear fit:\n",
      "a, error a, chi2, p-value\n",
      " [2.7077769841268786, 0.0007686644229699522, 25.81492728397391, 0.41752727069029516]\n",
      "Gaussian fit:\n",
      "mu, sigma\n",
      " [[27.01788914074439, -0.0009763613268220814, 0.0311095199011252], [5.199601614204281, 0.006592213330041629, 0.005173799732024872]]\n",
      "2\n",
      "First linear fit:\n",
      "a, b, error a, error b\n",
      " [[2.7002920024429384, 125.88248974360731], [0.0014756848066098244, 0.023641680379131592]]\n",
      "Second linear fit:\n",
      "a, error a, chi2, p-value\n",
      " [2.7002920024422292, 0.0012594830349727825, 25.599208167033137, 0.42922665540815774]\n",
      "Gaussian fit:\n",
      "mu, sigma\n",
      " [[26.998097837300968, -0.006479152169180165, 0.05097406638511275], [5.1957902726686696, 0.010204443432934904, 0.007528679297182757]]\n",
      "3\n",
      "First linear fit:\n",
      "a, b, error a, error b\n",
      " [[2.7040194749696242, 6.527923646726338], [0.0012454546312303304, 0.019953203450456928]]\n",
      "Second linear fit:\n",
      "a, error a, chi2, p-value\n",
      " [2.7040194749692246, 0.0008391062498610626, 28.405810497856415, 0.2895131093674806]\n",
      "Gaussian fit:\n",
      "mu, sigma\n",
      " [[27.000797583544212, -0.0009773717854206505, 0.033960513024797356], [5.196306337559702, 0.007099088892803108, 0.0054622518889433196]]\n"
     ]
    }
   ],
   "source": [
    "for i in range(4):\n",
    "    print(i)\n",
    "    print('First linear fit:\\na, b, error a, error b\\n',\n",
    "          First_linear_fit[i])\n",
    "    print('Second linear fit:\\na, error a, chi2, p-value\\n',\n",
    "          Second_linear_fit[i])\n",
    "    print('Gaussian fit:\\nmu, sigma\\n',Gaussian_fit[i])"
   ]
  },
  {
   "cell_type": "code",
   "execution_count": 168,
   "id": "aa515221",
   "metadata": {},
   "outputs": [
    {
     "name": "stdout",
     "output_type": "stream",
     "text": [
      "T measurements from second linear fit. \n",
      "T:  [2.7027211843711743, 2.7077769841268786, 2.7002920024422292, 2.7040194749692246] \n",
      "Uncertainty on T [0.0015200827192728401, 0.0007686644229699522, 0.0012594830349727825, 0.0008391062498610626]\n",
      "2.703702411477377 0.000569643160370584\n",
      "\n",
      "\n",
      " Results: T_mean = 2.703702411477377 +/- 0.000569643160370584\n"
     ]
    }
   ],
   "source": [
    "print ('T measurements from second linear fit.',\n",
    "       '\\nT: ', T_final, '\\nUncertainty on T',sigmaT_final)\n",
    "\n",
    "def weighted_mean(measurement, error):\n",
    "    '''Barlow eq. 4.6'''\n",
    "    mean = 0\n",
    "    for xi,sigi in zip(measurement, error):\n",
    "        mean += (xi/sigi**2)/(1/sigi**2)\n",
    "    return mean/len(measurement)\n",
    "\n",
    "def weighted_error(error):\n",
    "    '''Barlow eq. 4.7'''\n",
    "    var = 0\n",
    "    for sigi in error:\n",
    "        var += 1/(1/sigi**2)\n",
    "    return np.sqrt(var)/len(error)\n",
    "\n",
    "\n",
    "#################\n",
    "#    RESULTS    #\n",
    "#################\n",
    "\n",
    "Tmean = weighted_mean(T_final, sigmaT_final)\n",
    "sigTmean = weighted_error(sigmaT_final)\n",
    "\n",
    "# saved for later.\n",
    "print(Tmean, sigTmean)\n",
    "\n",
    "Tmean = 2.703702411477377\n",
    "sigTmean  = 0.000569643160370584\n",
    "\n",
    "print('\\n\\n',f'Results: T_mean = {Tmean} +/- {sigTmean}')"
   ]
  },
  {
   "cell_type": "markdown",
   "id": "81b4b314",
   "metadata": {},
   "source": [
    "# Length of pendulum"
   ]
  },
  {
   "cell_type": "code",
   "execution_count": 199,
   "id": "f0c39405",
   "metadata": {},
   "outputs": [],
   "source": [
    "########\n",
    "# DATA #\n",
    "########\n",
    "\n",
    "# hook\n",
    "L1 = np.array([3.9, 3.85, 3.8, 3.89])\n",
    "sigL1 = np.array([0.1,0.05,0.1,0.05])\n",
    "\n",
    "# string + nob on bob\n",
    "L23_before = np.array([180.4, 180.1, 185.01, 180.35])\n",
    "sigL23_before = np.array([0.3, 0.5, 0.01, 0.5])\n",
    "\n",
    "L23_bmod = np.array([180.4, 180.1, 180.35])\n",
    "sigL23_bmod = np.array([0.3, 0.5, 0.5])\n",
    "\n",
    "\n",
    "\n",
    "L23_after = np.array([180.3, 180.2, 180.1, 180.2])\n",
    "sigL23_after = np.array([0.3, 0.5, 0.1, 0.5])\n",
    "\n",
    "# bob height\n",
    "L4 = np.array([2.5, 2.49, 2.45, 2.49])\n",
    "sigL4 = np.array([0.1, 0.02, 0.05, 0.05])\n",
    "\n",
    "# floor to bottum of bob\n",
    "L5_before = np.array([23.5,23.4,23.6,23.37])\n",
    "sigL5_before = np.array([0.2,0.1,0.1,0.1])\n",
    "\n",
    "L5_after = np.array([23.4, 23.25, 23.6, 23.42])\n",
    "sigL5_after = np.array([0.2,0.05,0.1,0.1])\n",
    "\n",
    "# floor to loft\n",
    "Ltot = np.array([210, 209,210.2, 210.3])\n",
    "sigLtot = np.array([0.1,0.1,0.1,0.1])"
   ]
  },
  {
   "cell_type": "markdown",
   "id": "fd2739a8",
   "metadata": {},
   "source": [
    "* Calculate means for eacth measured length quantity\n",
    "* find the systematic error on string by comparing the sum of L1-L5 with Ltot.\n",
    "\n",
    "decide which values to use?\n",
    "\n",
    "* Calculate $L = L_{2+3} + 0.5*L_{4}$. Find its error using error propagation."
   ]
  },
  {
   "cell_type": "markdown",
   "id": "b95c3476",
   "metadata": {},
   "source": [
    "The chi2 values for L2+3 before unmodified has an unusual high chi2 value. Looking at the mesurements, removing third value, indicates it is an outlier and may be excluded.\n",
    "\n",
    "\n",
    "From now on, we use L2+3 modified."
   ]
  },
  {
   "cell_type": "code",
   "execution_count": 195,
   "id": "91e6d6bb",
   "metadata": {},
   "outputs": [],
   "source": [
    "def length_measurement(Li, sigLi):\n",
    "    mean = weighted_mean(Li, sigLi)\n",
    "    error = weighted_error(sigLi)\n",
    "    \n",
    "    N_DOF = len(Li)\n",
    "    \n",
    "    def chi2(Li, mu, sigLi):\n",
    "        chi2value= 0\n",
    "        for y, sy in zip(Li, sigLi):\n",
    "            chi2value += (y-mu)**2/sy**2\n",
    "        return chi2value\n",
    "    \n",
    "    chi2value = chi2(Li, mean, sigLi)\n",
    "    chiprob = stats.chi2.sf(chi2value, N_DOF)\n",
    "    \n",
    "    return mean, error, chi2value, chiprob\n"
   ]
  },
  {
   "cell_type": "code",
   "execution_count": 201,
   "id": "b8e9b347",
   "metadata": {},
   "outputs": [
    {
     "name": "stdout",
     "output_type": "stream",
     "text": [
      "(3.86, 0.03952847075210475, 0.920000000000005, 0.9216741224401112)\n",
      "(181.465, 0.19204491662108633, 125695.2782999991, 0.0)\n",
      "(180.28333333333333, 0.2560381915956203, 0.30345679012348004, 0.9593770457649003)\n",
      "(180.2, 0.19364916731037085, 1.1111111111110479, 0.8925053211471278)\n",
      "(2.4825, 0.031024184114977142, 0.6162500000000061, 0.9612409377433867)\n",
      "(23.4675, 0.06614378277661477, 3.1882812500000424, 0.5268258033908009)\n",
      "(23.4175, 0.0625, 14.561406250000093, 0.005702929768430877)\n",
      "(209.875, 0.05, 106.75000000000021, 3.588651607960653e-22)\n",
      "\n",
      "T: (2.703702411477377, 0.000569643160370584, 35.9905385668298, 2.9066939353150514e-07)\n"
     ]
    }
   ],
   "source": [
    "print(length_measurement(L1, sigL1))\n",
    "print(length_measurement(L23_before, sigL23_before))\n",
    "print(length_measurement(L23_bmod, sigL23_bmod))\n",
    "print(length_measurement(L23_after, sigL23_after))\n",
    "print(length_measurement(L4, sigL4))\n",
    "print(length_measurement(L5_before, sigL5_before))\n",
    "print(length_measurement(L5_after, sigL5_after))\n",
    "print(length_measurement(Ltot, sigLtot))\n",
    "\n",
    "print('\\nT:', length_measurement(T_final, sigmaT_final))"
   ]
  },
  {
   "cell_type": "code",
   "execution_count": 171,
   "id": "7e80373e",
   "metadata": {},
   "outputs": [],
   "source": [
    "### check if measurements are reliable\n",
    "\n",
    "### CALCULATE BEFORE AND AFTER tot to find systematic error?\n",
    "\n",
    "### Compare L23 before and after\n",
    "\n",
    "### Calculate L"
   ]
  },
  {
   "cell_type": "code",
   "execution_count": 175,
   "id": "dfa78ef5",
   "metadata": {},
   "outputs": [],
   "source": [
    "# Import SymPy: \n",
    "from sympy import *"
   ]
  },
  {
   "cell_type": "code",
   "execution_count": 186,
   "id": "f1768790",
   "metadata": {},
   "outputs": [
    {
     "data": {
      "text/latex": [
       "$$LtotB = L_{1} + L_{4} + L_{23B} + L_{5B}$$"
      ],
      "text/plain": [
       "<IPython.core.display.Latex object>"
      ]
     },
     "metadata": {},
     "output_type": "display_data"
    },
    {
     "data": {
      "text/latex": [
       "$$LtotA = L_{1} + L_{4} + L_{23A} + L_{5A}$$"
      ],
      "text/plain": [
       "<IPython.core.display.Latex object>"
      ]
     },
     "metadata": {},
     "output_type": "display_data"
    },
    {
     "data": {
      "text/latex": [
       "$$LB = 0.5 L_{4} + L_{23B}$$"
      ],
      "text/plain": [
       "<IPython.core.display.Latex object>"
      ]
     },
     "metadata": {},
     "output_type": "display_data"
    },
    {
     "data": {
      "text/latex": [
       "$$LA = 0.5 L_{4} + L_{23A}$$"
      ],
      "text/plain": [
       "<IPython.core.display.Latex object>"
      ]
     },
     "metadata": {},
     "output_type": "display_data"
    },
    {
     "data": {
      "text/latex": [
       "$$sigma_{LtotB} = \\sqrt{sigma_{L_1}^{2} + sigma_{L_4}^{2} + sigma_{L_{23B}}^{2} + sigma_{L_{5B}}^{2}}$$"
      ],
      "text/plain": [
       "<IPython.core.display.Latex object>"
      ]
     },
     "metadata": {},
     "output_type": "display_data"
    },
    {
     "data": {
      "text/latex": [
       "$$sigma_{LtotA} = \\sqrt{sigma_{L_1}^{2} + sigma_{L_4}^{2} + sigma_{L_{23A}}^{2} + sigma_{L_{5A}}^{2}}$$"
      ],
      "text/plain": [
       "<IPython.core.display.Latex object>"
      ]
     },
     "metadata": {},
     "output_type": "display_data"
    },
    {
     "data": {
      "text/latex": [
       "$$sigma_{LB} = \\sqrt{0.25 sigma_{L_4}^{2} + sigma_{L_{23B}}^{2}}$$"
      ],
      "text/plain": [
       "<IPython.core.display.Latex object>"
      ]
     },
     "metadata": {},
     "output_type": "display_data"
    },
    {
     "data": {
      "text/latex": [
       "$$sigma_{LA} = 0.5 \\sqrt{sigma_{L_4}^{2}}$$"
      ],
      "text/plain": [
       "<IPython.core.display.Latex object>"
      ]
     },
     "metadata": {},
     "output_type": "display_data"
    },
    {
     "data": {
      "text/latex": [
       "$$LtotB = (210.093 \\pm 0.269)\\,\\mathrm{cm}$$"
      ],
      "text/plain": [
       "<IPython.core.display.Latex object>"
      ]
     },
     "metadata": {},
     "output_type": "display_data"
    },
    {
     "data": {
      "text/latex": [
       "$$LtotA = (209.960 \\pm 0.210)\\,\\mathrm{cm}$$"
      ],
      "text/plain": [
       "<IPython.core.display.Latex object>"
      ]
     },
     "metadata": {},
     "output_type": "display_data"
    },
    {
     "data": {
      "text/latex": [
       "$$Ltot = (209.875 \\pm 0.050)\\,\\mathrm{cm}$$"
      ],
      "text/plain": [
       "<IPython.core.display.Latex object>"
      ]
     },
     "metadata": {},
     "output_type": "display_data"
    },
    {
     "data": {
      "text/latex": [
       "$$LB = (181.525 \\pm 0.257)\\,\\mathrm{cm}$$"
      ],
      "text/plain": [
       "<IPython.core.display.Latex object>"
      ]
     },
     "metadata": {},
     "output_type": "display_data"
    },
    {
     "data": {
      "text/latex": [
       "$$LA = (181.441 \\pm 0.016)\\,\\mathrm{cm}$$"
      ],
      "text/plain": [
       "<IPython.core.display.Latex object>"
      ]
     },
     "metadata": {},
     "output_type": "display_data"
    }
   ],
   "source": [
    "# Define variables\n",
    "L1, L23b, L23a, L4, L5b, L5a, Ltot, Ltotalb, Ltotala = symbols('L_1, L_{23B}, L_{23A}, L_4, L_{5B}, L_{5A}, Ltot, LB, LA') \n",
    "dL1, dL23b, dL23a, dL4 = symbols('sigma_{L_1}, sigma_{L_{23B}},sigma_{L_{23A}}, sigma_{L_4}')\n",
    "dL5b, dL5a, dLtot, dLtotalb, dLtotala = symbols('sigma_{L_{5B}}, sigma_{L_{5A}}, sigma_{Ltot}, sigma_{LB}, sigma_{LA}')\n",
    "\n",
    "# Define relation, and print:\n",
    "Ltotalb = L1 + L23b + L4 + L5b\n",
    "Ltotala = L1 + L23a + L4 + L5a\n",
    "Lb = L23b + 0.5*L4\n",
    "La = L23a + 0.5*L4\n",
    "\n",
    "lprint(latex(Eq(symbols('LtotB'),Ltotalb)))\n",
    "lprint(latex(Eq(symbols('LtotA'),Ltotala)))\n",
    "lprint(latex(Eq(symbols('LB'),Lb)))\n",
    "lprint(latex(Eq(symbols('LA'),La)))\n",
    "\n",
    "# Calculate uncertainty and print:\n",
    "dLtotalb = sqrt((Ltotalb.diff(L1) * dL1)**2\n",
    "                + (Ltotalb.diff(L23b) * dL23b)**2\n",
    "                + (Ltotalb.diff(L4) * dL4)**2\n",
    "                + (Ltotalb.diff(L5b) * dL5b)**2)\n",
    "dLtotala = sqrt((Ltotala.diff(L1) * dL1)**2\n",
    "                + (Ltotala.diff(L23a) * dL23a)**2\n",
    "                + (Ltotala.diff(L4) * dL4)**2\n",
    "                + (Ltotala.diff(L5a) * dL5a)**2)\n",
    "dLb = sqrt((Lb.diff(L23b) * dL23b)**2\n",
    "           + (Lb.diff(L4) * dL4)**2)\n",
    "dLa = sqrt((Lb.diff(L23a) * dL23a)**2\n",
    "           + (Lb.diff(L4) * dL4)**2)\n",
    "\n",
    "lprint(latex(Eq(symbols('sigma_{LtotB}'), dLtotalb)))\n",
    "lprint(latex(Eq(symbols('sigma_{LtotA}'), dLtotala)))\n",
    "lprint(latex(Eq(symbols('sigma_{LB}'), dLb)))\n",
    "lprint(latex(Eq(symbols('sigma_{LA}'), dLa)))\n",
    "\n",
    "# Turn expression into numerical functions \n",
    "fLtotalb = lambdify((L1, L23b, L4, L5b),Ltotalb)\n",
    "fdLtotalb = lambdify((L1, dL1, L23b, dL23b, L4, dL4, L5b, dL5b),dLtotalb)\n",
    "fLtotala = lambdify((L1, L23a, L4, L5a),Ltotala)\n",
    "fdLtotala = lambdify((L1, dL1, L23a, dL23a, L4, dL4, L5a, dL5a),dLtotala)\n",
    "\n",
    "fLb = lambdify((L23b, L4), Lb)\n",
    "fdLb = lambdify((L23b, dL23b, L4, dL4),dLb)\n",
    "fLa = lambdify((L23a, L4), La)\n",
    "fdLa = lambdify((L23a, dL23a, L4, dL4),dLa)\n",
    "\n",
    "# Define values and their errors\n",
    "vL1, vL23b, vL23a, vL4, vL5b, vL5a = 3.86, 180.28333333333333,180.2,2.4825, 23.4675, 23.4175\n",
    "vLtot = 209.875\n",
    "\n",
    "vdL1, vdL23b, vdL23a = 0.03952847075210475, 0.2560381915956203, 0.19364916731037085\n",
    "vdL4, vdL5b, vdL5a = 0.031024184114977142, 0.06614378277661477, 0.0625\n",
    "vdLtot = 0.05\n",
    "\n",
    "# Numerically evaluate expressions and print \n",
    "vLtotalb = fLtotalb(vL1, vL23b, vL4, vL5b)\n",
    "vdLtotalb = fdLtotalb(vL1, vdL1, vL23b, vdL23b, vL4, vdL4, vL5b, vdL5b)\n",
    "vLtotala = fLtotala(vL1, vL23a, vL4, vL5a)\n",
    "vdLtotala = fdLtotala(vL1, vdL1, vL23a, vdL23a, vL4, vdL4, vL5a, vdL5a)\n",
    "\n",
    "vLb = fLb(vL23b, vL4)\n",
    "vdLb = fdLb(vL23b, vdL23b, vL4, vdL4)\n",
    "vLa = fLa(vL23a, vL4)\n",
    "vdLa = fdLa(vL23a, vdL23a, vL4, vdL4)\n",
    "\n",
    "lprint(fr'LtotB = ({vLtotalb:.3f} \\pm {vdLtotalb:.3f})\\,\\mathrm{{cm}}')\n",
    "lprint(fr'LtotA = ({vLtotala:.3f} \\pm {vdLtotala:.3f})\\,\\mathrm{{cm}}')\n",
    "lprint(fr'Ltot = ({vLtot:.3f} \\pm {vdLtot:.3f})\\,\\mathrm{{cm}}')\n",
    "\n",
    "\n",
    "lprint(fr'LB = ({vLb:.3f} \\pm {vdLb:.3f})\\,\\mathrm{{cm}}')\n",
    "lprint(fr'LA = ({vLa:.3f} \\pm {vdLa:.3f})\\,\\mathrm{{cm}}')\n",
    "\n"
   ]
  },
  {
   "cell_type": "markdown",
   "id": "5f09c40e",
   "metadata": {},
   "source": [
    "# Calculate g"
   ]
  },
  {
   "cell_type": "markdown",
   "id": "1a2bbcd6",
   "metadata": {},
   "source": [
    "## Calculate error on g using error propagation formula."
   ]
  },
  {
   "cell_type": "code",
   "execution_count": 188,
   "id": "61afc2cc",
   "metadata": {},
   "outputs": [
    {
     "data": {
      "text/latex": [
       "$$g = \\frac{4 \\pi^{2} L}{T^{2}}$$"
      ],
      "text/plain": [
       "<IPython.core.display.Latex object>"
      ]
     },
     "metadata": {},
     "output_type": "display_data"
    },
    {
     "data": {
      "text/latex": [
       "$$\\sigma_{g} = \\sqrt{\\frac{64 \\pi^{4} L^{2} \\sigma_{T}^{2}}{T^{6}} + \\frac{16 \\pi^{4} \\sigma_{L}^{2}}{T^{4}}}$$"
      ],
      "text/plain": [
       "<IPython.core.display.Latex object>"
      ]
     },
     "metadata": {},
     "output_type": "display_data"
    },
    {
     "data": {
      "text/latex": [
       "$$g = (979.9\\pm0.4)\\,\\mathrm{cm/s^2}$$"
      ],
      "text/plain": [
       "<IPython.core.display.Latex object>"
      ]
     },
     "metadata": {},
     "output_type": "display_data"
    }
   ],
   "source": [
    "# define variables\n",
    "L, dL, T, dT, g = symbols('L, sigma_L, T, sigma_T, g')\n",
    "\n",
    "# define relation and print\n",
    "g = L*(2*pi/T)**2\n",
    "lprint(latex(Eq(symbols('g'), g)))\n",
    "\n",
    "#calculate uncertainty and print\n",
    "dg = sqrt((g.diff(L)*dL)**2+(g.diff(T)*dT)**2)\n",
    "lprint(latex(Eq(symbols('sigma_g'),dg)))\n",
    "\n",
    "#turn expression into numerial function\n",
    "fg = lambdify((T,L),g)\n",
    "fdg = lambdify((T,dT,L,dL),dg)\n",
    "\n",
    "#define values and their errors\n",
    "vT, vL = 2.703702411477377, vLa              #discuss with group\n",
    "vdT, vdL = 0.000569643160370584, vdLa\n",
    "\n",
    "#Numerical evaluate expressions and print\n",
    "vg = fg(vT, vL)\n",
    "vdg = fdg(vT, vdT, vL, vdL)\n",
    "lprint(fr'g = ({vg:.1f}\\pm{vdg:.1f})\\,\\mathrm{{cm/s^2}}')"
   ]
  },
  {
   "cell_type": "code",
   "execution_count": 190,
   "id": "a5e44c20",
   "metadata": {},
   "outputs": [
    {
     "data": {
      "text/plain": [
       "9.798914970800018"
      ]
     },
     "execution_count": 190,
     "metadata": {},
     "output_type": "execute_result"
    }
   ],
   "source": [
    "vg/100"
   ]
  },
  {
   "cell_type": "code",
   "execution_count": null,
   "id": "bf76ac26",
   "metadata": {},
   "outputs": [],
   "source": []
  }
 ],
 "metadata": {
  "kernelspec": {
   "display_name": "Python 3 (ipykernel)",
   "language": "python",
   "name": "python3"
  },
  "language_info": {
   "codemirror_mode": {
    "name": "ipython",
    "version": 3
   },
   "file_extension": ".py",
   "mimetype": "text/x-python",
   "name": "python",
   "nbconvert_exporter": "python",
   "pygments_lexer": "ipython3",
   "version": "3.11.5"
  }
 },
 "nbformat": 4,
 "nbformat_minor": 5
}
