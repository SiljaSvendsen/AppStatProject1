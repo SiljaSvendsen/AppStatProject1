{
 "cells": [
  {
   "cell_type": "markdown",
   "id": "77875fe2",
   "metadata": {},
   "source": [
    "# Pendulum Experiment\n",
    "\n",
    "Estimate the Earth's gravitational acceleration through a pendulum experiment\n",
    "\n",
    "## Author(s), contact(s), dates\n",
    "* Silja Svendsen (wng830@alumni.ku.dk)\n",
    "\n",
    "* 29/11/2023 (latest update)"
   ]
  },
  {
   "cell_type": "code",
   "execution_count": 1,
   "id": "2df7a898",
   "metadata": {},
   "outputs": [],
   "source": [
    "# import needed packages\n",
    "import numpy as np\n",
    "import matplotlib.pyplot as plt\n",
    "import glob\n",
    "import pandas as pd\n",
    "import seaborn as sns                                  # Make the plots nicer to look at\n",
    "from iminuit import Minuit                             # The actual fitting tool, better than scipy's\n",
    "import sys                                             # Module to see files and folders in directories\n",
    "from scipy import stats\n",
    "\n",
    "from IPython.core.display import Latex\n",
    "\n",
    "def lprint(*args,**kwargs):\n",
    "    \"\"\"Pretty print arguments as LaTeX using IPython display system \n",
    "    \n",
    "    Parameters\n",
    "    ----------\n",
    "    args : tuple \n",
    "        What to print (in LaTeX math mode)\n",
    "    kwargs : dict \n",
    "        optional keywords to pass to `display` \n",
    "    \"\"\"\n",
    "    display(Latex('$$'+' '.join(args)+'$$'),**kwargs)"
   ]
  },
  {
   "cell_type": "code",
   "execution_count": 2,
   "id": "76422c11",
   "metadata": {},
   "outputs": [],
   "source": [
    "sys.path.append('/Users/siljaxianpallisgaardsvendsen/Documents/KU_K/8_AppStat/AppStat2023/External_Functions/')\n",
    "from ExternalFunctionsNew import UnbinnedLH, BinnedLH, Chi2Regression\n",
    "from ExternalFunctionsNew import nice_string_output, add_text_to_ax   # Useful functions to print fit results on figure"
   ]
  },
  {
   "cell_type": "code",
   "execution_count": 3,
   "id": "36b5e62f",
   "metadata": {},
   "outputs": [],
   "source": [
    "# plotting settings\n",
    "sns.set()\n",
    "sns.set_context(\"paper\", font_scale = 1.4)\n",
    "sns.set_style(\"ticks\")"
   ]
  },
  {
   "cell_type": "code",
   "execution_count": 12,
   "id": "c19def68",
   "metadata": {},
   "outputs": [],
   "source": [
    "save_plots = False\n",
    "verbose = False"
   ]
  },
  {
   "cell_type": "code",
   "execution_count": 21,
   "id": "05ac56d6",
   "metadata": {},
   "outputs": [],
   "source": [
    "# load T data\n",
    "pendulum = []\n",
    "for filepath in glob.glob('/Users/siljaxianpallisgaardsvendsen/Documents/KU_K/8_AppStat/AppStatProject1/timer_*pendulum.txt'):\n",
    "    data = np.loadtxt(filepath)\n",
    "    pendulum.append(data[0:27]) #ensure all data set have the same length.\n",
    "\n",
    "if (verbose):\n",
    "    print(pendulum)"
   ]
  },
  {
   "cell_type": "code",
   "execution_count": 22,
   "id": "eed97288",
   "metadata": {},
   "outputs": [],
   "source": [
    "# Estimated T and their uncertainties from different measurement processes\n",
    "# T_final values and their uncertainties are appended from second linear fit\n",
    "T_final = []\n",
    "sigmaT_final = []"
   ]
  },
  {
   "cell_type": "markdown",
   "id": "3795fe9b",
   "metadata": {},
   "source": [
    "## First linear fit: get an estimate of the period (the slope)"
   ]
  },
  {
   "cell_type": "code",
   "execution_count": 23,
   "id": "b5a57c41",
   "metadata": {},
   "outputs": [],
   "source": [
    "experiment_number = 0 # change this one for each measurement process obtained\n",
    "\n",
    "# the following lines are for readability only\n",
    "oscillation_number = 0\n",
    "time_point = 1"
   ]
  },
  {
   "cell_type": "code",
   "execution_count": 29,
   "id": "fa814ee5",
   "metadata": {},
   "outputs": [
    {
     "name": "stdout",
     "output_type": "stream",
     "text": [
      "A good initial guess on the time error 0.09103215083258744\n"
     ]
    },
    {
     "data": {
      "text/plain": [
       "array([2.7166, 2.5602, 2.7721, 2.7733, 2.6426, 2.6542, 2.8021, 2.6665,\n",
       "       2.6395, 2.7416, 2.6999, 2.708 , 2.6502, 2.7685, 2.7501, 2.563 ,\n",
       "       2.8619, 2.6891, 2.4798, 2.8504, 2.8085, 2.6604, 2.7022, 2.5809,\n",
       "       2.7958, 2.7132])"
      ]
     },
     "execution_count": 29,
     "metadata": {},
     "output_type": "execute_result"
    }
   ],
   "source": [
    "tdiff = np.diff(pendulum[experiment_number][:,time_point])\n",
    "sigmat = np.sqrt(np.mean((tdiff-np.mean(tdiff))**2)) #RootMeanSquaredDistance\n",
    "print('A good initial guess on the time error', sigmat)\n",
    "\n",
    "tdiff"
   ]
  },
  {
   "cell_type": "code",
   "execution_count": 30,
   "id": "15fb0d87",
   "metadata": {},
   "outputs": [
    {
     "name": "stdout",
     "output_type": "stream",
     "text": [
      "27 27 27\n"
     ]
    }
   ],
   "source": [
    "Npoints = np.shape(pendulum[experiment_number][:])[0]\n",
    "x = pendulum[experiment_number][:,oscillation_number]\n",
    "y = pendulum[experiment_number][:,time_point]\n",
    "sy = (sigmat)*np.ones(Npoints)\n",
    "\n",
    "\n",
    "print(len(x), len(y), len(sy))"
   ]
  },
  {
   "cell_type": "code",
   "execution_count": 31,
   "id": "5ad25b35",
   "metadata": {},
   "outputs": [],
   "source": [
    "def linear_func(x, a, b):\n",
    "    return a*x + b"
   ]
  },
  {
   "cell_type": "code",
   "execution_count": 32,
   "id": "ff99dfb8",
   "metadata": {
    "scrolled": true
   },
   "outputs": [
    {
     "data": {
      "text/html": [
       "<table>\n",
       "    <tr>\n",
       "        <th colspan=\"5\" style=\"text-align:center\" title=\"Minimizer\"> Migrad </th>\n",
       "    </tr>\n",
       "    <tr>\n",
       "        <td colspan=\"2\" style=\"text-align:left\" title=\"Minimum value of function\"> FCN = 11.25 </td>\n",
       "        <td colspan=\"3\" style=\"text-align:center\" title=\"Total number of function and (optional) gradient evaluations\"> Nfcn = 40 </td>\n",
       "    </tr>\n",
       "    <tr>\n",
       "        <td colspan=\"2\" style=\"text-align:left\" title=\"Estimated distance to minimum and goal\"> EDM = 3.92e-18 (Goal: 0.0002) </td>\n",
       "        <td colspan=\"3\" style=\"text-align:center\" title=\"Total run time of algorithms\">  </td>\n",
       "    </tr>\n",
       "    <tr>\n",
       "        <td colspan=\"2\" style=\"text-align:center;background-color:#92CCA6;color:black\"> Valid Minimum </td>\n",
       "        <td colspan=\"3\" style=\"text-align:center;background-color:#92CCA6;color:black\"> No Parameters at limit </td>\n",
       "    </tr>\n",
       "    <tr>\n",
       "        <td colspan=\"2\" style=\"text-align:center;background-color:#92CCA6;color:black\"> Below EDM threshold (goal x 10) </td>\n",
       "        <td colspan=\"3\" style=\"text-align:center;background-color:#92CCA6;color:black\"> Below call limit </td>\n",
       "    </tr>\n",
       "    <tr>\n",
       "        <td style=\"text-align:center;background-color:#92CCA6;color:black\"> Covariance </td>\n",
       "        <td style=\"text-align:center;background-color:#92CCA6;color:black\"> Hesse ok </td>\n",
       "        <td style=\"text-align:center;background-color:#92CCA6;color:black\" title=\"Is covariance matrix accurate?\"> Accurate </td>\n",
       "        <td style=\"text-align:center;background-color:#92CCA6;color:black\" title=\"Is covariance matrix positive definite?\"> Pos. def. </td>\n",
       "        <td style=\"text-align:center;background-color:#92CCA6;color:black\" title=\"Was positive definiteness enforced by Minuit?\"> Not forced </td>\n",
       "    </tr>\n",
       "</table><table>\n",
       "    <tr>\n",
       "        <td></td>\n",
       "        <th title=\"Variable name\"> Name </th>\n",
       "        <th title=\"Value of parameter\"> Value </th>\n",
       "        <th title=\"Hesse error\"> Hesse Error </th>\n",
       "        <th title=\"Minos lower error\"> Minos Error- </th>\n",
       "        <th title=\"Minos upper error\"> Minos Error+ </th>\n",
       "        <th title=\"Lower limit of the parameter\"> Limit- </th>\n",
       "        <th title=\"Upper limit of the parameter\"> Limit+ </th>\n",
       "        <th title=\"Is the parameter fixed in the fit\"> Fixed </th>\n",
       "    </tr>\n",
       "    <tr>\n",
       "        <th> 0 </th>\n",
       "        <td> a </td>\n",
       "        <td> 2.7027 </td>\n",
       "        <td> 0.0023 </td>\n",
       "        <td>  </td>\n",
       "        <td>  </td>\n",
       "        <td>  </td>\n",
       "        <td>  </td>\n",
       "        <td>  </td>\n",
       "    </tr>\n",
       "    <tr>\n",
       "        <th> 1 </th>\n",
       "        <td> b </td>\n",
       "        <td> 6.01 </td>\n",
       "        <td> 0.04 </td>\n",
       "        <td>  </td>\n",
       "        <td>  </td>\n",
       "        <td>  </td>\n",
       "        <td>  </td>\n",
       "        <td>  </td>\n",
       "    </tr>\n",
       "</table><table>\n",
       "    <tr>\n",
       "        <td></td>\n",
       "        <th> a </th>\n",
       "        <th> b </th>\n",
       "    </tr>\n",
       "    <tr>\n",
       "        <th> a </th>\n",
       "        <td> 5.06e-06 </td>\n",
       "        <td style=\"background-color:rgb(136,136,250);color:black\"> -7.08e-05 <strong>(-0.874)</strong> </td>\n",
       "    </tr>\n",
       "    <tr>\n",
       "        <th> b </th>\n",
       "        <td style=\"background-color:rgb(136,136,250);color:black\"> -7.08e-05 <strong>(-0.874)</strong> </td>\n",
       "        <td> 0.0013 </td>\n",
       "    </tr>\n",
       "</table>"
      ],
      "text/plain": [
       "┌─────────────────────────────────────────────────────────────────────────┐\n",
       "│                                Migrad                                   │\n",
       "├──────────────────────────────────┬──────────────────────────────────────┤\n",
       "│ FCN = 11.25                      │              Nfcn = 40               │\n",
       "│ EDM = 3.92e-18 (Goal: 0.0002)    │                                      │\n",
       "├──────────────────────────────────┼──────────────────────────────────────┤\n",
       "│          Valid Minimum           │        No Parameters at limit        │\n",
       "├──────────────────────────────────┼──────────────────────────────────────┤\n",
       "│ Below EDM threshold (goal x 10)  │           Below call limit           │\n",
       "├───────────────┬──────────────────┼───────────┬─────────────┬────────────┤\n",
       "│  Covariance   │     Hesse ok     │ Accurate  │  Pos. def.  │ Not forced │\n",
       "└───────────────┴──────────────────┴───────────┴─────────────┴────────────┘\n",
       "┌───┬──────┬───────────┬───────────┬────────────┬────────────┬─────────┬─────────┬───────┐\n",
       "│   │ Name │   Value   │ Hesse Err │ Minos Err- │ Minos Err+ │ Limit-  │ Limit+  │ Fixed │\n",
       "├───┼──────┼───────────┼───────────┼────────────┼────────────┼─────────┼─────────┼───────┤\n",
       "│ 0 │ a    │  2.7027   │  0.0023   │            │            │         │         │       │\n",
       "│ 1 │ b    │   6.01    │   0.04    │            │            │         │         │       │\n",
       "└───┴──────┴───────────┴───────────┴────────────┴────────────┴─────────┴─────────┴───────┘\n",
       "┌───┬─────────────────────┐\n",
       "│   │         a         b │\n",
       "├───┼─────────────────────┤\n",
       "│ a │  5.06e-06 -7.08e-05 │\n",
       "│ b │ -7.08e-05    0.0013 │\n",
       "└───┴─────────────────────┘"
      ]
     },
     "execution_count": 32,
     "metadata": {},
     "output_type": "execute_result"
    }
   ],
   "source": [
    "chi2 = Chi2Regression(linear_func, x, y, sy)\n",
    "minuit_linear = Minuit(chi2, a=np.mean(tdiff), b=0 )\n",
    "minuit_linear.errordef = Minuit.LEAST_SQUARES\n",
    "minuit_linear.migrad()"
   ]
  },
  {
   "cell_type": "code",
   "execution_count": 33,
   "id": "e474f390",
   "metadata": {},
   "outputs": [
    {
     "name": "stdout",
     "output_type": "stream",
     "text": [
      "  The ChiSquare fit converged - congratulations\n"
     ]
    }
   ],
   "source": [
    "if (not minuit_linear.fmin.is_valid) :\n",
    "    print(\"  WARNING: The ChiSquare fit DID NOT converge!!! \")\n",
    "else :\n",
    "    print(\"  The ChiSquare fit converged - congratulations\")"
   ]
  },
  {
   "cell_type": "code",
   "execution_count": 34,
   "id": "27bee62f",
   "metadata": {},
   "outputs": [
    {
     "name": "stdout",
     "output_type": "stream",
     "text": [
      "First linear fit\n",
      "Fit value: a = 2.70272 +/- 0.00225\n",
      "Fit value: b = 6.00623 +/- 0.03603\n"
     ]
    }
   ],
   "source": [
    "# get fit parameters from minuit\n",
    "a, b = minuit_linear.values[:]\n",
    "print('First linear fit')\n",
    "for name in minuit_linear.parameters:\n",
    "    print(\"Fit value: {0} = {1:.5f} +/- {2:.5f}\".format(name, minuit_linear.values[name], minuit_linear.errors[name]))"
   ]
  },
  {
   "cell_type": "code",
   "execution_count": 39,
   "id": "5d15b7d6",
   "metadata": {},
   "outputs": [],
   "source": [
    "# plot fit\n",
    "x_fit = np.linspace(0, 27, 1000)\n",
    "y_fit_linear = linear_func(x_fit, a, b)"
   ]
  },
  {
   "cell_type": "markdown",
   "id": "57dcf29c",
   "metadata": {},
   "source": [
    "**Calculate the number of degrees of freedom along with the chi2 probability**"
   ]
  },
  {
   "cell_type": "code",
   "execution_count": 40,
   "id": "fc3cdc45",
   "metadata": {},
   "outputs": [
    {
     "name": "stdout",
     "output_type": "stream",
     "text": [
      "p-value: 0.9916493488031402\n"
     ]
    }
   ],
   "source": [
    "NDOF = Npoints - len(minuit_linear.values[:])\n",
    "chi2_val = minuit_linear.fval\n",
    "chi2_prob = stats.chi2.sf(chi2_val, NDOF)\n",
    "print('p-value:', chi2_prob)"
   ]
  },
  {
   "cell_type": "code",
   "execution_count": 41,
   "id": "ff084f9b",
   "metadata": {},
   "outputs": [],
   "source": [
    "d = {'Entries':  Npoints,\n",
    "     'Chi2':     chi2_val,\n",
    "     'ndf':      NDOF,\n",
    "     'Prob':     chi2_prob,\n",
    "    }\n",
    "\n",
    "for name in minuit_linear.parameters:\n",
    "    d[name] = [minuit_linear.values[name], minuit_linear.errors[name]]"
   ]
  },
  {
   "cell_type": "code",
   "execution_count": 42,
   "id": "736be614",
   "metadata": {},
   "outputs": [
    {
     "data": {
      "image/png": "[encoded data removed]",
      "text/plain": [
       "<Figure size 1200x600 with 1 Axes>"
      ]
     },
     "metadata": {},
     "output_type": "display_data"
    }
   ],
   "source": [
    "fig1, ax1 = plt.subplots(figsize = (12,6))\n",
    "\n",
    "ax1.errorbar(x, y, yerr = sy, fmt = '.', label = f'Experiment = {experiment_number}')\n",
    "ax1.set(title = \"First linear fit\",\n",
    "        xlabel = 'Oscillation number',\n",
    "        ylabel = 'Time')\n",
    "ax1.plot(x_fit, y_fit_linear, '-', label = '$y = a*x+b$')\n",
    "text = nice_string_output(d, extra_spacing=2, decimals=3)\n",
    "add_text_to_ax(0.02, 0.95, text, ax1, fontsize=12)\n",
    "ax1.legend(loc = 'upper center')\n",
    "fig1.tight_layout();\n",
    "\n",
    "if save_plots:\n",
    "    fig1.savefig('first_linear_fit.pdf', dpi = 600) #remember to change title"
   ]
  },
  {
   "cell_type": "markdown",
   "id": "7b0b3be0",
   "metadata": {},
   "source": [
    "## Histogramn residuals: Get estimation of error on T (and L)"
   ]
  },
  {
   "cell_type": "code",
   "execution_count": 18,
   "id": "e475a084",
   "metadata": {},
   "outputs": [],
   "source": [
    "#\n",
    "Nbins = int(np.sqrt(Npoints)) # rule of thumb\n",
    "xmin, xmax = -0.5, 0.5"
   ]
  },
  {
   "cell_type": "code",
   "execution_count": 19,
   "id": "d9e12575",
   "metadata": {},
   "outputs": [],
   "source": [
    "tdist = tdiff - a # distance to fit parameter"
   ]
  },
  {
   "cell_type": "markdown",
   "id": "7cae165e",
   "metadata": {},
   "source": [
    "### Fit to the data/ histogram (1D)\n",
    "Using the fiting method binned likelihood-fit because the data is binned and low statistics.\n",
    "\n",
    "I assume that the distances to the fit parameter is gaussian distributed."
   ]
  },
  {
   "cell_type": "code",
   "execution_count": 20,
   "id": "9a2471ab",
   "metadata": {},
   "outputs": [],
   "source": [
    "def gauss_pdf(x, mu, sigma):\n",
    "    '''normalised gaussian'''\n",
    "    return 1/np.sqrt(2*np.pi)/sigma*np.exp(-0.5*(x-mu)**2/sigma**2)\n",
    "\n",
    "def gauss_extended(x, N, mu, sigma):\n",
    "    '''non-normalised gaussian'''\n",
    "    return N*gauss_pdf(x, mu, sigma)"
   ]
  },
  {
   "cell_type": "code",
   "execution_count": 21,
   "id": "c7dd27a5",
   "metadata": {},
   "outputs": [],
   "source": [
    "bllh = BinnedLH(gauss_extended,\n",
    "               tdist,\n",
    "               bins = Nbins,\n",
    "               bound =(xmin, xmax),\n",
    "               extended=True)"
   ]
  },
  {
   "cell_type": "code",
   "execution_count": 22,
   "id": "4d3b0fe8",
   "metadata": {},
   "outputs": [
    {
     "name": "stderr",
     "output_type": "stream",
     "text": [
      "/Users/siljaxianpallisgaardsvendsen/Documents/KU_K/8_AppStat/AppStat2023/External_Functions/ExternalFunctionsNew.py:284: UserWarning: x is really small return 0\n",
      "  warnings.warn('x is really small return 0')\n"
     ]
    },
    {
     "data": {
      "text/html": [
       "<table>\n",
       "    <tr>\n",
       "        <th colspan=\"5\" style=\"text-align:center\" title=\"Minimizer\"> Migrad </th>\n",
       "    </tr>\n",
       "    <tr>\n",
       "        <td colspan=\"2\" style=\"text-align:left\" title=\"Minimum value of function\"> FCN = 0.02959 </td>\n",
       "        <td colspan=\"3\" style=\"text-align:center\" title=\"Total number of function and (optional) gradient evaluations\"> Nfcn = 88 </td>\n",
       "    </tr>\n",
       "    <tr>\n",
       "        <td colspan=\"2\" style=\"text-align:left\" title=\"Estimated distance to minimum and goal\"> EDM = 4.2e-05 (Goal: 0.0001) </td>\n",
       "        <td colspan=\"3\" style=\"text-align:center\" title=\"Total run time of algorithms\"> time = 0.1 sec </td>\n",
       "    </tr>\n",
       "    <tr>\n",
       "        <td colspan=\"2\" style=\"text-align:center;background-color:#92CCA6;color:black\"> Valid Minimum </td>\n",
       "        <td colspan=\"3\" style=\"text-align:center;background-color:#92CCA6;color:black\"> No Parameters at limit </td>\n",
       "    </tr>\n",
       "    <tr>\n",
       "        <td colspan=\"2\" style=\"text-align:center;background-color:#92CCA6;color:black\"> Below EDM threshold (goal x 10) </td>\n",
       "        <td colspan=\"3\" style=\"text-align:center;background-color:#92CCA6;color:black\"> Below call limit </td>\n",
       "    </tr>\n",
       "    <tr>\n",
       "        <td style=\"text-align:center;background-color:#92CCA6;color:black\"> Covariance </td>\n",
       "        <td style=\"text-align:center;background-color:#92CCA6;color:black\"> Hesse ok </td>\n",
       "        <td style=\"text-align:center;background-color:#92CCA6;color:black\" title=\"Is covariance matrix accurate?\"> Accurate </td>\n",
       "        <td style=\"text-align:center;background-color:#92CCA6;color:black\" title=\"Is covariance matrix positive definite?\"> Pos. def. </td>\n",
       "        <td style=\"text-align:center;background-color:#92CCA6;color:black\" title=\"Was positive definiteness enforced by Minuit?\"> Not forced </td>\n",
       "    </tr>\n",
       "</table><table>\n",
       "    <tr>\n",
       "        <td></td>\n",
       "        <th title=\"Variable name\"> Name </th>\n",
       "        <th title=\"Value of parameter\"> Value </th>\n",
       "        <th title=\"Hesse error\"> Hesse Error </th>\n",
       "        <th title=\"Minos lower error\"> Minos Error- </th>\n",
       "        <th title=\"Minos upper error\"> Minos Error+ </th>\n",
       "        <th title=\"Lower limit of the parameter\"> Limit- </th>\n",
       "        <th title=\"Upper limit of the parameter\"> Limit+ </th>\n",
       "        <th title=\"Is the parameter fixed in the fit\"> Fixed </th>\n",
       "    </tr>\n",
       "    <tr>\n",
       "        <th> 0 </th>\n",
       "        <td> N </td>\n",
       "        <td> 26 </td>\n",
       "        <td> 5 </td>\n",
       "        <td>  </td>\n",
       "        <td>  </td>\n",
       "        <td>  </td>\n",
       "        <td>  </td>\n",
       "        <td>  </td>\n",
       "    </tr>\n",
       "    <tr>\n",
       "        <th> 1 </th>\n",
       "        <td> mu </td>\n",
       "        <td> -0.008 </td>\n",
       "        <td> 0.022 </td>\n",
       "        <td>  </td>\n",
       "        <td>  </td>\n",
       "        <td>  </td>\n",
       "        <td>  </td>\n",
       "        <td>  </td>\n",
       "    </tr>\n",
       "    <tr>\n",
       "        <th> 2 </th>\n",
       "        <td> sigma </td>\n",
       "        <td> 0.090 </td>\n",
       "        <td> 0.016 </td>\n",
       "        <td>  </td>\n",
       "        <td>  </td>\n",
       "        <td>  </td>\n",
       "        <td>  </td>\n",
       "        <td>  </td>\n",
       "    </tr>\n",
       "</table><table>\n",
       "    <tr>\n",
       "        <td></td>\n",
       "        <th> N </th>\n",
       "        <th> mu </th>\n",
       "        <th> sigma </th>\n",
       "    </tr>\n",
       "    <tr>\n",
       "        <th> N </th>\n",
       "        <td> 25.8 </td>\n",
       "        <td style=\"background-color:rgb(250,250,250);color:black\"> -0.000346 <strong>(-0.003)</strong> </td>\n",
       "        <td style=\"background-color:rgb(250,245,245);color:black\"> 0.0025 <strong>(0.031)</strong> </td>\n",
       "    </tr>\n",
       "    <tr>\n",
       "        <th> mu </th>\n",
       "        <td style=\"background-color:rgb(250,250,250);color:black\"> -0.000346 <strong>(-0.003)</strong> </td>\n",
       "        <td> 0.000465 </td>\n",
       "        <td style=\"background-color:rgb(250,246,246);color:black\"> 8.59e-06 <strong>(0.025)</strong> </td>\n",
       "    </tr>\n",
       "    <tr>\n",
       "        <th> sigma </th>\n",
       "        <td style=\"background-color:rgb(250,245,245);color:black\"> 0.0025 <strong>(0.031)</strong> </td>\n",
       "        <td style=\"background-color:rgb(250,246,246);color:black\"> 8.59e-06 <strong>(0.025)</strong> </td>\n",
       "        <td> 0.00025 </td>\n",
       "    </tr>\n",
       "</table>"
      ],
      "text/plain": [
       "┌─────────────────────────────────────────────────────────────────────────┐\n",
       "│                                Migrad                                   │\n",
       "├──────────────────────────────────┬──────────────────────────────────────┤\n",
       "│ FCN = 0.02959                    │              Nfcn = 88               │\n",
       "│ EDM = 4.2e-05 (Goal: 0.0001)     │            time = 0.1 sec            │\n",
       "├──────────────────────────────────┼──────────────────────────────────────┤\n",
       "│          Valid Minimum           │        No Parameters at limit        │\n",
       "├──────────────────────────────────┼──────────────────────────────────────┤\n",
       "│ Below EDM threshold (goal x 10)  │           Below call limit           │\n",
       "├───────────────┬──────────────────┼───────────┬─────────────┬────────────┤\n",
       "│  Covariance   │     Hesse ok     │ Accurate  │  Pos. def.  │ Not forced │\n",
       "└───────────────┴──────────────────┴───────────┴─────────────┴────────────┘\n",
       "┌───┬───────┬───────────┬───────────┬────────────┬────────────┬─────────┬─────────┬───────┐\n",
       "│   │ Name  │   Value   │ Hesse Err │ Minos Err- │ Minos Err+ │ Limit-  │ Limit+  │ Fixed │\n",
       "├───┼───────┼───────────┼───────────┼────────────┼────────────┼─────────┼─────────┼───────┤\n",
       "│ 0 │ N     │    26     │     5     │            │            │         │         │       │\n",
       "│ 1 │ mu    │  -0.008   │   0.022   │            │            │         │         │       │\n",
       "│ 2 │ sigma │   0.090   │   0.016   │            │            │         │         │       │\n",
       "└───┴───────┴───────────┴───────────┴────────────┴────────────┴─────────┴─────────┴───────┘\n",
       "┌───────┬───────────────────────────────┐\n",
       "│       │         N        mu     sigma │\n",
       "├───────┼───────────────────────────────┤\n",
       "│     N │      25.8 -0.000346    0.0025 │\n",
       "│    mu │ -0.000346  0.000465  8.59e-06 │\n",
       "│ sigma │    0.0025  8.59e-06   0.00025 │\n",
       "└───────┴───────────────────────────────┘"
      ]
     },
     "execution_count": 22,
     "metadata": {},
     "output_type": "execute_result"
    }
   ],
   "source": [
    "Minuit.print_level = 1\n",
    "minuit_bllh = Minuit(bllh, mu = 0, sigma = 0.4, N = 10)\n",
    "minuit_bllh.errordef = Minuit.LIKELIHOOD\n",
    "minuit_bllh.migrad() #perform the actual fit"
   ]
  },
  {
   "cell_type": "code",
   "execution_count": 23,
   "id": "45a533b1",
   "metadata": {},
   "outputs": [
    {
     "name": "stdout",
     "output_type": "stream",
     "text": [
      "  Fit value: N = 25.87162 +/- 5.07634\n",
      "  Fit value: mu = -0.00819 +/- 0.02156\n",
      "  Fit value: sigma = 0.09017 +/- 0.01582\n",
      "  LLH value =    0.0\n"
     ]
    }
   ],
   "source": [
    "fit_N, fit_mu, fit_sigma = minuit_bllh.values[:]     # The fitted values of the parameters\n",
    "for name in minuit_bllh.parameters:\n",
    "    value, error = minuit_bllh.values[name], minuit_bllh.errors[name]\n",
    "    print(f\"  Fit value: {name} = {value:.5f} +/- {error:.5f}\")\n",
    "    \n",
    "LLH_value = minuit_bllh.fval                         # The LogLikeliHood (LLH) value\n",
    "print(f\"  LLH value = {LLH_value:6.1f}\")\n"
   ]
  },
  {
   "cell_type": "code",
   "execution_count": 24,
   "id": "adb67787",
   "metadata": {},
   "outputs": [],
   "source": [
    "# used to plot fits\n",
    "binwidth = (xmax-xmin)/ Nbins\n",
    "x_fit = np.linspace(xmin, xmax, 1000)\n",
    "y_fit = binwidth*gauss_extended(x_fit, fit_N, fit_mu, fit_sigma)"
   ]
  },
  {
   "cell_type": "markdown",
   "id": "ae5fc73f",
   "metadata": {},
   "source": [
    "### Get statistics"
   ]
  },
  {
   "cell_type": "code",
   "execution_count": 25,
   "id": "50328dfc",
   "metadata": {},
   "outputs": [],
   "source": [
    "# did not take the chi2 of binned likelihood fit because it is not costum."
   ]
  },
  {
   "cell_type": "markdown",
   "id": "9bcce72c",
   "metadata": {},
   "source": [
    "### Plot binned data and fit"
   ]
  },
  {
   "cell_type": "code",
   "execution_count": 26,
   "id": "99f136a1",
   "metadata": {},
   "outputs": [],
   "source": [
    "d = {'Entries':  Npoints,\n",
    "     #'Mean':     x_all.mean(),\n",
    "     #'Std':      x_all.std(ddof=1),\n",
    "     # 'N':        [minuit.values['N'], minuit.errors['N']],\n",
    "     'mu':       [minuit_bllh.values['mu'], minuit_bllh.errors['mu']],\n",
    "     'sigma':    [minuit_bllh.values['sigma'], minuit_bllh.errors['sigma']],\n",
    "     #'Chi2':     chi2_val,\n",
    "     #'ndf':      N_DOF,\n",
    "     #'Prob':     chi2_prob,\n",
    "    }"
   ]
  },
  {
   "cell_type": "code",
   "execution_count": 27,
   "id": "af986c10",
   "metadata": {},
   "outputs": [
    {
     "data": {
      "image/png": "[encoded data removed]",
      "text/plain": [
       "<Figure size 1200x600 with 1 Axes>"
      ]
     },
     "metadata": {},
     "output_type": "display_data"
    }
   ],
   "source": [
    "# plotting histogram and fit\n",
    "fig2, ax2 = plt.subplots(figsize = (12,6))\n",
    "\n",
    "hist = ax2.hist(tdist, bins=Nbins, range=(xmin, xmax),\n",
    "                histtype='step', linewidth=2, color='blue',\n",
    "                label='Binned T data ($\\mu$ = 0)')\n",
    "\n",
    "ax2.plot(x_fit, y_fit, '-', color ='blue', label = 'Fit with Gaussian')\n",
    "ax2.set(xlabel = r'$T_i-T_{parameter}}$',\n",
    "        ylabel = f'Frequency / {binwidth}',\n",
    "        title = r'Distribution of $T_i-T_{parameter}$') # distribution of differences between Ti and the parameter value found in the first linear fit. \n",
    "ax2.legend(loc = 'best')\n",
    "text = nice_string_output(d, extra_spacing=2, decimals=3)\n",
    "add_text_to_ax(0.02, 0.95, text, ax2, fontsize=12)\n",
    "fig2.tight_layout();\n",
    "\n",
    "if save_plots:\n",
    "    fig.save_plots('Histogram_period.pdf', dpi=600) #remember to change name"
   ]
  },
  {
   "cell_type": "markdown",
   "id": "60f2936a",
   "metadata": {},
   "source": [
    "# Second Linear Fit (Get uncertainty on T)"
   ]
  },
  {
   "cell_type": "code",
   "execution_count": 28,
   "id": "3d16778b",
   "metadata": {},
   "outputs": [
    {
     "name": "stdout",
     "output_type": "stream",
     "text": [
      "[0.09016509 0.09016509 0.09016509 0.09016509 0.09016509 0.09016509\n",
      " 0.09016509 0.09016509 0.09016509 0.09016509 0.09016509 0.09016509\n",
      " 0.09016509 0.09016509 0.09016509 0.09016509 0.09016509 0.09016509\n",
      " 0.09016509 0.09016509 0.09016509 0.09016509 0.09016509 0.09016509\n",
      " 0.09016509 0.09016509 0.09016509]\n"
     ]
    }
   ],
   "source": [
    "x = pendulum[experiment_number][:,oscillation_number]\n",
    "y = pendulum[experiment_number][:,time_point]\n",
    "# update sy\n",
    "# accuracy in each timing point obtained from fitting binned T data with a Gaussian\n",
    "sy = minuit_bllh.values['sigma']*np.ones(Npoints)\n",
    "\n",
    "if verbose:\n",
    "    print(sy)"
   ]
  },
  {
   "cell_type": "code",
   "execution_count": 29,
   "id": "cc5ea142",
   "metadata": {},
   "outputs": [
    {
     "data": {
      "text/html": [
       "<table>\n",
       "    <tr>\n",
       "        <th colspan=\"5\" style=\"text-align:center\" title=\"Minimizer\"> Migrad </th>\n",
       "    </tr>\n",
       "    <tr>\n",
       "        <td colspan=\"2\" style=\"text-align:left\" title=\"Minimum value of function\"> FCN = 11.47 </td>\n",
       "        <td colspan=\"3\" style=\"text-align:center\" title=\"Total number of function and (optional) gradient evaluations\"> Nfcn = 40 </td>\n",
       "    </tr>\n",
       "    <tr>\n",
       "        <td colspan=\"2\" style=\"text-align:left\" title=\"Estimated distance to minimum and goal\"> EDM = 3.05e-18 (Goal: 0.0002) </td>\n",
       "        <td colspan=\"3\" style=\"text-align:center\" title=\"Total run time of algorithms\">  </td>\n",
       "    </tr>\n",
       "    <tr>\n",
       "        <td colspan=\"2\" style=\"text-align:center;background-color:#92CCA6;color:black\"> Valid Minimum </td>\n",
       "        <td colspan=\"3\" style=\"text-align:center;background-color:#92CCA6;color:black\"> No Parameters at limit </td>\n",
       "    </tr>\n",
       "    <tr>\n",
       "        <td colspan=\"2\" style=\"text-align:center;background-color:#92CCA6;color:black\"> Below EDM threshold (goal x 10) </td>\n",
       "        <td colspan=\"3\" style=\"text-align:center;background-color:#92CCA6;color:black\"> Below call limit </td>\n",
       "    </tr>\n",
       "    <tr>\n",
       "        <td style=\"text-align:center;background-color:#92CCA6;color:black\"> Covariance </td>\n",
       "        <td style=\"text-align:center;background-color:#92CCA6;color:black\"> Hesse ok </td>\n",
       "        <td style=\"text-align:center;background-color:#92CCA6;color:black\" title=\"Is covariance matrix accurate?\"> Accurate </td>\n",
       "        <td style=\"text-align:center;background-color:#92CCA6;color:black\" title=\"Is covariance matrix positive definite?\"> Pos. def. </td>\n",
       "        <td style=\"text-align:center;background-color:#92CCA6;color:black\" title=\"Was positive definiteness enforced by Minuit?\"> Not forced </td>\n",
       "    </tr>\n",
       "</table><table>\n",
       "    <tr>\n",
       "        <td></td>\n",
       "        <th title=\"Variable name\"> Name </th>\n",
       "        <th title=\"Value of parameter\"> Value </th>\n",
       "        <th title=\"Hesse error\"> Hesse Error </th>\n",
       "        <th title=\"Minos lower error\"> Minos Error- </th>\n",
       "        <th title=\"Minos upper error\"> Minos Error+ </th>\n",
       "        <th title=\"Lower limit of the parameter\"> Limit- </th>\n",
       "        <th title=\"Upper limit of the parameter\"> Limit+ </th>\n",
       "        <th title=\"Is the parameter fixed in the fit\"> Fixed </th>\n",
       "    </tr>\n",
       "    <tr>\n",
       "        <th> 0 </th>\n",
       "        <td> a </td>\n",
       "        <td> 2.7027 </td>\n",
       "        <td> 0.0022 </td>\n",
       "        <td>  </td>\n",
       "        <td>  </td>\n",
       "        <td>  </td>\n",
       "        <td>  </td>\n",
       "        <td>  </td>\n",
       "    </tr>\n",
       "    <tr>\n",
       "        <th> 1 </th>\n",
       "        <td> b </td>\n",
       "        <td> 6.01 </td>\n",
       "        <td> 0.04 </td>\n",
       "        <td>  </td>\n",
       "        <td>  </td>\n",
       "        <td>  </td>\n",
       "        <td>  </td>\n",
       "        <td>  </td>\n",
       "    </tr>\n",
       "</table><table>\n",
       "    <tr>\n",
       "        <td></td>\n",
       "        <th> a </th>\n",
       "        <th> b </th>\n",
       "    </tr>\n",
       "    <tr>\n",
       "        <th> a </th>\n",
       "        <td> 4.96e-06 </td>\n",
       "        <td style=\"background-color:rgb(136,136,250);color:black\"> -6.95e-05 <strong>(-0.874)</strong> </td>\n",
       "    </tr>\n",
       "    <tr>\n",
       "        <th> b </th>\n",
       "        <td style=\"background-color:rgb(136,136,250);color:black\"> -6.95e-05 <strong>(-0.874)</strong> </td>\n",
       "        <td> 0.00127 </td>\n",
       "    </tr>\n",
       "</table>"
      ],
      "text/plain": [
       "┌─────────────────────────────────────────────────────────────────────────┐\n",
       "│                                Migrad                                   │\n",
       "├──────────────────────────────────┬──────────────────────────────────────┤\n",
       "│ FCN = 11.47                      │              Nfcn = 40               │\n",
       "│ EDM = 3.05e-18 (Goal: 0.0002)    │                                      │\n",
       "├──────────────────────────────────┼──────────────────────────────────────┤\n",
       "│          Valid Minimum           │        No Parameters at limit        │\n",
       "├──────────────────────────────────┼──────────────────────────────────────┤\n",
       "│ Below EDM threshold (goal x 10)  │           Below call limit           │\n",
       "├───────────────┬──────────────────┼───────────┬─────────────┬────────────┤\n",
       "│  Covariance   │     Hesse ok     │ Accurate  │  Pos. def.  │ Not forced │\n",
       "└───────────────┴──────────────────┴───────────┴─────────────┴────────────┘\n",
       "┌───┬──────┬───────────┬───────────┬────────────┬────────────┬─────────┬─────────┬───────┐\n",
       "│   │ Name │   Value   │ Hesse Err │ Minos Err- │ Minos Err+ │ Limit-  │ Limit+  │ Fixed │\n",
       "├───┼──────┼───────────┼───────────┼────────────┼────────────┼─────────┼─────────┼───────┤\n",
       "│ 0 │ a    │  2.7027   │  0.0022   │            │            │         │         │       │\n",
       "│ 1 │ b    │   6.01    │   0.04    │            │            │         │         │       │\n",
       "└───┴──────┴───────────┴───────────┴────────────┴────────────┴─────────┴─────────┴───────┘\n",
       "┌───┬─────────────────────┐\n",
       "│   │         a         b │\n",
       "├───┼─────────────────────┤\n",
       "│ a │  4.96e-06 -6.95e-05 │\n",
       "│ b │ -6.95e-05   0.00127 │\n",
       "└───┴─────────────────────┘"
      ]
     },
     "execution_count": 29,
     "metadata": {},
     "output_type": "execute_result"
    }
   ],
   "source": [
    "chi2 = Chi2Regression(linear_func, x, y, sy)\n",
    "minuit_linear = Minuit(chi2, a=np.mean(tdiff), b=0 )\n",
    "minuit_linear.errordef = Minuit.LEAST_SQUARES\n",
    "minuit_linear.migrad()"
   ]
  },
  {
   "cell_type": "code",
   "execution_count": 30,
   "id": "8ef19358",
   "metadata": {},
   "outputs": [
    {
     "name": "stdout",
     "output_type": "stream",
     "text": [
      "  The ChiSquare fit converged - congratulations\n"
     ]
    }
   ],
   "source": [
    "if (not minuit_linear.fmin.is_valid) :\n",
    "    print(\"  WARNING: The ChiSquare fit DID NOT converge!!! \")\n",
    "else :\n",
    "    print(\"  The ChiSquare fit converged - congratulations\")"
   ]
  },
  {
   "cell_type": "code",
   "execution_count": 31,
   "id": "cc3fb4de",
   "metadata": {},
   "outputs": [
    {
     "name": "stdout",
     "output_type": "stream",
     "text": [
      "Second linear fit\n",
      "Fit value: a = 2.70272 +/- 0.00223\n",
      "Fit value: b = 6.00623 +/- 0.03569\n"
     ]
    }
   ],
   "source": [
    "# get fit parameters from minuit\n",
    "a, b = minuit_linear.values[:]\n",
    "print('Second linear fit')\n",
    "for name in minuit_linear.parameters:\n",
    "    print(\"Fit value: {0} = {1:.5f} +/- {2:.5f}\".format(name,\n",
    "                                                        minuit_linear.values[name],\n",
    "                                                        minuit_linear.errors[name]))\n",
    "    \n",
    "# append to T_final and sigmaT_final\n",
    "T_final.append(minuit_linear.values[0])      #slope\n",
    "sigmaT_final.append(minuit_linear.errors[0]) # error on slope"
   ]
  },
  {
   "cell_type": "code",
   "execution_count": 32,
   "id": "21368aa3",
   "metadata": {},
   "outputs": [],
   "source": [
    "# plot fit\n",
    "x_fit = np.linspace(0, 25, 1000)\n",
    "y_fit_linear = linear_func(x_fit, a, b)"
   ]
  },
  {
   "cell_type": "code",
   "execution_count": 33,
   "id": "f6ca6000",
   "metadata": {},
   "outputs": [
    {
     "name": "stdout",
     "output_type": "stream",
     "text": [
      "p-value: 0.990368013826677\n"
     ]
    }
   ],
   "source": [
    "NDOF = Npoints - len(minuit_linear.values[:])\n",
    "chi2_val = minuit_linear.fval\n",
    "chi2_prob = stats.chi2.sf(chi2_val, NDOF)\n",
    "print('p-value:', chi2_prob)"
   ]
  },
  {
   "cell_type": "code",
   "execution_count": 34,
   "id": "6b6469e6",
   "metadata": {},
   "outputs": [],
   "source": [
    "d = {'Entries':  Npoints,\n",
    "     'Chi2':     chi2_val,\n",
    "     'ndf':      NDOF,\n",
    "     'Prob':     chi2_prob,\n",
    "    }\n",
    "\n",
    "\n",
    "for name in minuit_linear.parameters:\n",
    "    d[name] = [minuit_linear.values[name], minuit_linear.errors[name]]"
   ]
  },
  {
   "cell_type": "code",
   "execution_count": 35,
   "id": "1b97e0ae",
   "metadata": {},
   "outputs": [
    {
     "data": {
      "image/png": "[encoded data removed]",
      "text/plain": [
       "<Figure size 1200x600 with 1 Axes>"
      ]
     },
     "metadata": {},
     "output_type": "display_data"
    }
   ],
   "source": [
    "fig3, ax3 = plt.subplots(figsize = (12,6))\n",
    "\n",
    "ax3.errorbar(x, y, yerr = sy, fmt = '.', label = f'Experiment = {experiment_number}')\n",
    "ax3.set(title = \"Second linear fit\",\n",
    "        xlabel = 'Oscillation number',\n",
    "        ylabel = 'Time')\n",
    "ax3.plot(x_fit, y_fit_linear, '-', label = '$y = a*x+b$')\n",
    "text = nice_string_output(d, extra_spacing=2, decimals=3)\n",
    "add_text_to_ax(0.02, 0.95, text, ax3, fontsize=12)\n",
    "ax3.legend(loc = 'upper center')\n",
    "fig3.tight_layout();\n",
    "\n",
    "if save_plots:\n",
    "    fig1.savefig('second_linear_fit.pdf', dpi = 600) #remember to change title"
   ]
  },
  {
   "cell_type": "markdown",
   "id": "8a020df3",
   "metadata": {},
   "source": [
    "The uncertainty on the slope of the fit is the uncertainty on the period.\n",
    "\n",
    "From a previous notebook it mentions that one expect a p-value around 0.5 by construction. Why do I not get that?\n",
    "\n",
    "From this plot, there is not much fluctuations around the fit function. It makes sense that I have a p-value around 0.9."
   ]
  },
  {
   "cell_type": "markdown",
   "id": "229d0d77",
   "metadata": {},
   "source": [
    "# Period T and its error\n",
    "Period on T is then a weighted mean of `T_final` and the error should be a weighted error using `sigmaT_final`."
   ]
  },
  {
   "cell_type": "code",
   "execution_count": 36,
   "id": "aa515221",
   "metadata": {},
   "outputs": [
    {
     "name": "stdout",
     "output_type": "stream",
     "text": [
      "T measurements from second linear fit and errors on T are obtained from histogram plot. \n",
      "T:  [2.70272118437084] \n",
      "Uncertainty on T [0.0022278274205688193]\n",
      "\n",
      "\n",
      " Results: T_mean = 2.7027211843708394 +/- 0.0022278274205688193\n"
     ]
    }
   ],
   "source": [
    "print ('T measurements from second linear fit and errors on T are obtained from histogram plot.',\n",
    "       '\\nT: ', T_final, '\\nUncertainty on T',sigmaT_final)\n",
    "\n",
    "def weighted_mean(measurement, error):\n",
    "    '''Barlow eq. 4.6'''\n",
    "    for xi,sigi in zip(measurement, error):\n",
    "        mean = 0\n",
    "        mean += (xi/sigi**2)/(1/sigi**2)\n",
    "    return mean\n",
    "\n",
    "def weighted_error(error):\n",
    "    '''Barlow eq. 4.7'''\n",
    "    for sigi in error:\n",
    "        var = 0\n",
    "        var += 1/(1/sigi**2)\n",
    "    return np.sqrt(var)\n",
    "\n",
    "\n",
    "#################\n",
    "#    RESULTS    #\n",
    "#################\n",
    "\n",
    "Tmean = weighted_mean(T_final, sigmaT_final)\n",
    "sigTmean = weighted_error(sigmaT_final)\n",
    "\n",
    "print('\\n\\n',f'Results: T_mean = {Tmean} +/- {sigTmean}')"
   ]
  },
  {
   "cell_type": "markdown",
   "id": "81b4b314",
   "metadata": {},
   "source": [
    "# Length of pendulum"
   ]
  },
  {
   "cell_type": "code",
   "execution_count": 37,
   "id": "5cde9839",
   "metadata": {},
   "outputs": [
    {
     "name": "stdout",
     "output_type": "stream",
     "text": [
      "L = 51.3 +/- 4.6 cm\n"
     ]
    }
   ],
   "source": [
    "L_data = np.array([53,56,45]) # measure the lenth individually!\n",
    "L_est = np.mean(L_data)\n",
    "sigmaL_est = np.sqrt(np.mean((L_data-L_est)**2)) \n",
    "\n",
    "print('L = {0:.1f} +/- {1:.1f} cm'.format(L_est, sigmaL_est))"
   ]
  },
  {
   "cell_type": "markdown",
   "id": "5f09c40e",
   "metadata": {},
   "source": [
    "# Calculate g"
   ]
  },
  {
   "cell_type": "markdown",
   "id": "1a2bbcd6",
   "metadata": {},
   "source": [
    "## Calculate error on g using error propagation formula."
   ]
  },
  {
   "cell_type": "code",
   "execution_count": 38,
   "id": "61afc2cc",
   "metadata": {},
   "outputs": [],
   "source": [
    "##############\n",
    "# Parameters #\n",
    "##############\n",
    "\n",
    "L, T, sigma_L, sigma_T,rho_TL = L_est, Tmean, sigmaL_est, sigTmean, 0\n",
    "rhoTL = 0 # period and length is uncorrelated\n",
    "sigT = sigTmean\n",
    "muT = Tmean\n",
    "sigL = sigmaL_est\n",
    "muL = L_est"
   ]
  },
  {
   "cell_type": "code",
   "execution_count": 39,
   "id": "5406cca7",
   "metadata": {},
   "outputs": [
    {
     "name": "stdout",
     "output_type": "stream",
     "text": [
      "277.4321013669616\n"
     ]
    }
   ],
   "source": [
    "g1 = muL * (2*np.pi/muT)**2\n",
    "print(g1)"
   ]
  },
  {
   "cell_type": "code",
   "execution_count": 40,
   "id": "372bd96d",
   "metadata": {},
   "outputs": [
    {
     "data": {
      "text/latex": [
       "$$g = \\frac{4 \\pi^{2} L}{T^{2}}$$"
      ],
      "text/plain": [
       "<IPython.core.display.Latex object>"
      ]
     },
     "metadata": {},
     "output_type": "display_data"
    },
    {
     "data": {
      "text/latex": [
       "$$\\sigma_{g} = \\sqrt{\\frac{64 \\pi^{4} L^{2} \\sigma_{T}^{2}}{T^{6}} + \\frac{16 \\pi^{4} \\sigma_{L}^{2}}{T^{4}}}$$"
      ],
      "text/plain": [
       "<IPython.core.display.Latex object>"
      ]
     },
     "metadata": {},
     "output_type": "display_data"
    },
    {
     "data": {
      "text/latex": [
       "$$g = (0.0 \\pm 0.0)\\,\\mathrm{m}$$"
      ],
      "text/plain": [
       "<IPython.core.display.Latex object>"
      ]
     },
     "metadata": {},
     "output_type": "display_data"
    }
   ],
   "source": [
    "# Import SymPy: \n",
    "from sympy import * \n",
    "\n",
    "# Define variables:\n",
    "L,T, g = symbols(\"L, T, g\")\n",
    "dL,dT, dg = symbols(\"sigma_L, sigma_T, sigma_g\")\n",
    "\n",
    "\n",
    "# Define relation, and print:\n",
    "g = L * (2*pi/T)**2\n",
    "\n",
    "lprint(latex(Eq(symbols('g'),g)))\n",
    "\n",
    "# Calculate uncertainty and print:\n",
    "dg = sqrt((g.diff(L) * dL)**2 + (g.diff(T) * dT)**2 + 2* g.diff(L)*g.diff(T)*rhoTL*sigT*sigL)\n",
    "\n",
    "\n",
    "lprint(latex(Eq(symbols('sigma_g'), dg)))\n",
    "\n",
    "# Turn expression into numerical functions \n",
    "fg = lambdify((T,L),g)\n",
    "fdg = lambdify((T,dT,L,dL),dg)\n",
    "\n",
    "# Define values and their errors\n",
    "vT, vdT = muT, sigT\n",
    "vL, vdL = muL, sigL\n",
    "\n",
    "# Numerically evaluate expressions and print \n",
    "vg = fg(vL,vT)\n",
    "vdg = fdg(vL,vdL,vT,vdT)\n",
    "\n",
    "lprint(fr'g = ({vg:.1f} \\pm {vdg:.1f})\\,\\mathrm{{m}}')\n",
    "\n",
    "# NOTE: Do the above analytical calculation before you continue below! Possibly use SymPy for the differentiations."
   ]
  },
  {
   "cell_type": "code",
   "execution_count": 41,
   "id": "15050ac5",
   "metadata": {},
   "outputs": [],
   "source": [
    "# SOMTHING IS WRONG WITH THE SYMPY CALCULATION!!!"
   ]
  },
  {
   "cell_type": "code",
   "execution_count": null,
   "id": "115e7d2c",
   "metadata": {},
   "outputs": [],
   "source": []
  }
 ],
 "metadata": {
  "kernelspec": {
   "display_name": "Python 3 (ipykernel)",
   "language": "python",
   "name": "python3"
  },
  "language_info": {
   "codemirror_mode": {
    "name": "ipython",
    "version": 3
   },
   "file_extension": ".py",
   "mimetype": "text/x-python",
   "name": "python",
   "nbconvert_exporter": "python",
   "pygments_lexer": "ipython3",
   "version": "3.11.5"
  }
 },
 "nbformat": 4,
 "nbformat_minor": 5
}
